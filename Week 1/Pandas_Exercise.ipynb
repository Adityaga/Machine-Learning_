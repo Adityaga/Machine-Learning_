{
 "cells": [
  {
   "cell_type": "markdown",
   "metadata": {},
   "source": [
    "# <center>Introduction to Pandas</center>\n",
    "\n",
    "![](https://pandas.pydata.org/_static/pandas_logo.png)\n",
    "\n",
    "\n",
    "## Installation\n",
    "\n",
    "Simply,\n",
    "```\n",
    "pip install pandas\n",
    "```\n",
    "\n",
    "\n",
    "## Reading data from a CSV file\n",
    "\n",
    "You can read data from a CSV file using the ``read_csv`` function. By default, it assumes that the fields are comma-separated."
   ]
  },
  {
   "cell_type": "code",
   "execution_count": 1,
   "metadata": {},
   "outputs": [],
   "source": [
    "# import pandas\n",
    "import pandas as pd"
   ]
  },
  {
   "cell_type": "markdown",
   "metadata": {},
   "source": [
    ">The `imdb.csv` dataset contains Highest Rated IMDb \"Top 1000\" Titles."
   ]
  },
  {
   "cell_type": "code",
   "execution_count": 6,
   "metadata": {},
   "outputs": [],
   "source": [
    "# load imdb dataset as pandas dataframe\n",
    "df=pd.read_csv(\"../Downloads/imdb_1000.csv\")"
   ]
  },
  {
   "cell_type": "code",
   "execution_count": 15,
   "metadata": {},
   "outputs": [
    {
     "data": {
      "text/html": [
       "<div>\n",
       "<style scoped>\n",
       "    .dataframe tbody tr th:only-of-type {\n",
       "        vertical-align: middle;\n",
       "    }\n",
       "\n",
       "    .dataframe tbody tr th {\n",
       "        vertical-align: top;\n",
       "    }\n",
       "\n",
       "    .dataframe thead th {\n",
       "        text-align: right;\n",
       "    }\n",
       "</style>\n",
       "<table border=\"1\" class=\"dataframe\">\n",
       "  <thead>\n",
       "    <tr style=\"text-align: right;\">\n",
       "      <th></th>\n",
       "      <th>Date;;Rachel / Papineau;Berri1;Maisonneuve_2;Maisonneuve_1;Brébeuf;Parc;PierDup;CSC (Côte Sainte-Catherine);Pont_Jacques_Cartier</th>\n",
       "    </tr>\n",
       "  </thead>\n",
       "  <tbody>\n",
       "    <tr>\n",
       "      <th>0</th>\n",
       "      <td>01/01/2012;00:00;16;35;51;38;5;26;10;0;27</td>\n",
       "    </tr>\n",
       "    <tr>\n",
       "      <th>1</th>\n",
       "      <td>02/01/2012;00:00;43;83;153;68;11;53;6;1;21</td>\n",
       "    </tr>\n",
       "    <tr>\n",
       "      <th>2</th>\n",
       "      <td>03/01/2012;00:00;58;135;248;104;2;89;3;2;15</td>\n",
       "    </tr>\n",
       "    <tr>\n",
       "      <th>3</th>\n",
       "      <td>04/01/2012;00:00;61;144;318;116;2;111;8;1;19</td>\n",
       "    </tr>\n",
       "    <tr>\n",
       "      <th>4</th>\n",
       "      <td>05/01/2012;00:00;95;197;330;124;6;97;13;2;16</td>\n",
       "    </tr>\n",
       "  </tbody>\n",
       "</table>\n",
       "</div>"
      ],
      "text/plain": [
       "  Date;;Rachel / Papineau;Berri1;Maisonneuve_2;Maisonneuve_1;Brébeuf;Parc;PierDup;CSC (Côte Sainte-Catherine);Pont_Jacques_Cartier\n",
       "0          01/01/2012;00:00;16;35;51;38;5;26;10;0;27                                                                              \n",
       "1         02/01/2012;00:00;43;83;153;68;11;53;6;1;21                                                                              \n",
       "2        03/01/2012;00:00;58;135;248;104;2;89;3;2;15                                                                              \n",
       "3       04/01/2012;00:00;61;144;318;116;2;111;8;1;19                                                                              \n",
       "4       05/01/2012;00:00;95;197;330;124;6;97;13;2;16                                                                              "
      ]
     },
     "execution_count": 15,
     "metadata": {},
     "output_type": "execute_result"
    }
   ],
   "source": [
    "# show first 5 rows of imdb_df\n",
    "#df.head()\n",
    "df.iloc[0:5,:]"
   ]
  },
  {
   "cell_type": "markdown",
   "metadata": {},
   "source": [
    ">The `bikes.csv` dataset contains information about the number of bicycles that used certain bicycle lanes in Montreal in the year 2012."
   ]
  },
  {
   "cell_type": "code",
   "execution_count": 10,
   "metadata": {},
   "outputs": [],
   "source": [
    "# load bikes dataset as pandas dataframe\n",
    "df=pd.read_csv(\"../Downloads/bikes.csv\")"
   ]
  },
  {
   "cell_type": "code",
   "execution_count": 12,
   "metadata": {},
   "outputs": [
    {
     "data": {
      "text/html": [
       "<div>\n",
       "<style scoped>\n",
       "    .dataframe tbody tr th:only-of-type {\n",
       "        vertical-align: middle;\n",
       "    }\n",
       "\n",
       "    .dataframe tbody tr th {\n",
       "        vertical-align: top;\n",
       "    }\n",
       "\n",
       "    .dataframe thead th {\n",
       "        text-align: right;\n",
       "    }\n",
       "</style>\n",
       "<table border=\"1\" class=\"dataframe\">\n",
       "  <thead>\n",
       "    <tr style=\"text-align: right;\">\n",
       "      <th></th>\n",
       "      <th>Date;;Rachel / Papineau;Berri1;Maisonneuve_2;Maisonneuve_1;Brébeuf;Parc;PierDup;CSC (Côte Sainte-Catherine);Pont_Jacques_Cartier</th>\n",
       "    </tr>\n",
       "  </thead>\n",
       "  <tbody>\n",
       "    <tr>\n",
       "      <th>0</th>\n",
       "      <td>01/01/2012;00:00;16;35;51;38;5;26;10;0;27</td>\n",
       "    </tr>\n",
       "    <tr>\n",
       "      <th>1</th>\n",
       "      <td>02/01/2012;00:00;43;83;153;68;11;53;6;1;21</td>\n",
       "    </tr>\n",
       "    <tr>\n",
       "      <th>2</th>\n",
       "      <td>03/01/2012;00:00;58;135;248;104;2;89;3;2;15</td>\n",
       "    </tr>\n",
       "  </tbody>\n",
       "</table>\n",
       "</div>"
      ],
      "text/plain": [
       "  Date;;Rachel / Papineau;Berri1;Maisonneuve_2;Maisonneuve_1;Brébeuf;Parc;PierDup;CSC (Côte Sainte-Catherine);Pont_Jacques_Cartier\n",
       "0          01/01/2012;00:00;16;35;51;38;5;26;10;0;27                                                                              \n",
       "1         02/01/2012;00:00;43;83;153;68;11;53;6;1;21                                                                              \n",
       "2        03/01/2012;00:00;58;135;248;104;2;89;3;2;15                                                                              "
      ]
     },
     "execution_count": 12,
     "metadata": {},
     "output_type": "execute_result"
    }
   ],
   "source": [
    "# show first 3 rows of bikes_df\n",
    "df.iloc[0:3,:]"
   ]
  },
  {
   "cell_type": "markdown",
   "metadata": {},
   "source": [
    "## Selecting columns\n",
    "\n",
    "When you read a CSV, you get a kind of object called a DataFrame, which is made up of rows and columns. You get columns out of a DataFrame the same way you get elements out of a dictionary."
   ]
  },
  {
   "cell_type": "code",
   "execution_count": 27,
   "metadata": {},
   "outputs": [
    {
     "name": "stdout",
     "output_type": "stream",
     "text": [
      "['star_rating', 'title', 'content_rating', 'genre', 'duration', 'actors_list']\n",
      "6\n"
     ]
    }
   ],
   "source": [
    "# list columns of imdb_df\n",
    "import pandas as pd\n",
    "df=pd.read_csv(\"../Downloads/imdb_1000.csv\")\n",
    "print(list(df))\n",
    "k=0\n",
    "for i in list(df):\n",
    "    k+=1\n",
    "print(k)    "
   ]
  },
  {
   "cell_type": "code",
   "execution_count": 33,
   "metadata": {},
   "outputs": [
    {
     "data": {
      "text/plain": [
       "star_rating       float64\n",
       "title              object\n",
       "content_rating     object\n",
       "genre              object\n",
       "duration            int64\n",
       "actors_list        object\n",
       "dtype: object"
      ]
     },
     "execution_count": 33,
     "metadata": {},
     "output_type": "execute_result"
    }
   ],
   "source": [
    "# what are the datatypes of values in columns\n",
    "import pandas as pd\n",
    "df=pd.read_csv(\"../Downloads/imdb_1000.csv\")\n",
    "df.dtypes"
   ]
  },
  {
   "cell_type": "code",
   "execution_count": 38,
   "metadata": {},
   "outputs": [
    {
     "name": "stdout",
     "output_type": "stream",
     "text": [
      "     star_rating                                              title  \\\n",
      "0            9.3                           The Shawshank Redemption   \n",
      "1            9.2                                      The Godfather   \n",
      "2            9.1                             The Godfather: Part II   \n",
      "3            9.0                                    The Dark Knight   \n",
      "4            8.9                                       Pulp Fiction   \n",
      "5            8.9                                       12 Angry Men   \n",
      "6            8.9                     The Good, the Bad and the Ugly   \n",
      "7            8.9      The Lord of the Rings: The Return of the King   \n",
      "8            8.9                                   Schindler's List   \n",
      "9            8.9                                         Fight Club   \n",
      "10           8.8  The Lord of the Rings: The Fellowship of the Ring   \n",
      "11           8.8                                          Inception   \n",
      "12           8.8     Star Wars: Episode V - The Empire Strikes Back   \n",
      "13           8.8                                       Forrest Gump   \n",
      "14           8.8              The Lord of the Rings: The Two Towers   \n",
      "15           8.7                                       Interstellar   \n",
      "16           8.7                    One Flew Over the Cuckoo's Nest   \n",
      "17           8.7                                      Seven Samurai   \n",
      "18           8.7                                         Goodfellas   \n",
      "19           8.7                                          Star Wars   \n",
      "20           8.7                                         The Matrix   \n",
      "21           8.7                                        City of God   \n",
      "22           8.7                              It's a Wonderful Life   \n",
      "23           8.7                                 The Usual Suspects   \n",
      "24           8.7                                              Se7en   \n",
      "25           8.6                                  Life Is Beautiful   \n",
      "26           8.6                       Once Upon a Time in the West   \n",
      "27           8.6                           The Silence of the Lambs   \n",
      "28           8.6                             Leon: The Professional   \n",
      "29           8.6                                        City Lights   \n",
      "..           ...                                                ...   \n",
      "949          7.4                                         Home Alone   \n",
      "950          7.4                                              Bound   \n",
      "951          7.4                                      Sleepy Hollow   \n",
      "952          7.4                                       Pirate Radio   \n",
      "953          7.4                              The NeverEnding Story   \n",
      "954          7.4                                              X-Men   \n",
      "955          7.4                                   Zero Dark Thirty   \n",
      "956          7.4                           Manhattan Murder Mystery   \n",
      "957          7.4                        National Lampoon's Vacation   \n",
      "958          7.4                                 My Sister's Keeper   \n",
      "959          7.4                               Deconstructing Harry   \n",
      "960          7.4                                   The Way Way Back   \n",
      "961          7.4                                             Capote   \n",
      "962          7.4                                 Driving Miss Daisy   \n",
      "963          7.4                                    La Femme Nikita   \n",
      "964          7.4                                            Lincoln   \n",
      "965          7.4                                          Limitless   \n",
      "966          7.4                                 The Simpsons Movie   \n",
      "967          7.4                                           The Rock   \n",
      "968          7.4                                The English Patient   \n",
      "969          7.4                                Law Abiding Citizen   \n",
      "970          7.4                                        Wonder Boys   \n",
      "971          7.4                                 Death at a Funeral   \n",
      "972          7.4                                     Blue Valentine   \n",
      "973          7.4                              The Cider House Rules   \n",
      "974          7.4                                            Tootsie   \n",
      "975          7.4                        Back to the Future Part III   \n",
      "976          7.4    Master and Commander: The Far Side of the World   \n",
      "977          7.4                                        Poltergeist   \n",
      "978          7.4                                        Wall Street   \n",
      "\n",
      "    content_rating      genre  duration  \\\n",
      "0                R      Crime       142   \n",
      "1                R      Crime       175   \n",
      "2                R      Crime       200   \n",
      "3            PG-13     Action       152   \n",
      "4                R      Crime       154   \n",
      "5        NOT RATED      Drama        96   \n",
      "6        NOT RATED    Western       161   \n",
      "7            PG-13  Adventure       201   \n",
      "8                R  Biography       195   \n",
      "9                R      Drama       139   \n",
      "10           PG-13  Adventure       178   \n",
      "11           PG-13     Action       148   \n",
      "12              PG     Action       124   \n",
      "13           PG-13      Drama       142   \n",
      "14           PG-13  Adventure       179   \n",
      "15           PG-13  Adventure       169   \n",
      "16               R      Drama       133   \n",
      "17         UNRATED      Drama       207   \n",
      "18               R  Biography       146   \n",
      "19              PG     Action       121   \n",
      "20               R     Action       136   \n",
      "21               R      Crime       130   \n",
      "22        APPROVED      Drama       130   \n",
      "23               R      Crime       106   \n",
      "24               R      Drama       127   \n",
      "25           PG-13     Comedy       116   \n",
      "26           PG-13    Western       175   \n",
      "27               R      Drama       118   \n",
      "28               R      Crime       110   \n",
      "29          PASSED     Comedy        87   \n",
      "..             ...        ...       ...   \n",
      "949             PG     Comedy       103   \n",
      "950              R      Crime       108   \n",
      "951              R      Drama       105   \n",
      "952              R     Comedy       117   \n",
      "953             PG  Adventure       102   \n",
      "954          PG-13     Action       104   \n",
      "955              R      Drama       157   \n",
      "956             PG     Comedy       104   \n",
      "957              R     Comedy        98   \n",
      "958          PG-13      Drama       109   \n",
      "959              R     Comedy        96   \n",
      "960          PG-13     Comedy       103   \n",
      "961              R  Biography       114   \n",
      "962             PG     Comedy        99   \n",
      "963              R     Action       118   \n",
      "964          PG-13  Biography       150   \n",
      "965          PG-13    Mystery       105   \n",
      "966          PG-13  Animation        87   \n",
      "967              R     Action       136   \n",
      "968              R      Drama       162   \n",
      "969              R      Crime       109   \n",
      "970              R      Drama       107   \n",
      "971              R     Comedy        90   \n",
      "972          NC-17      Drama       112   \n",
      "973          PG-13      Drama       126   \n",
      "974             PG     Comedy       116   \n",
      "975             PG  Adventure       118   \n",
      "976          PG-13     Action       138   \n",
      "977             PG     Horror       114   \n",
      "978              R      Crime       126   \n",
      "\n",
      "                                           actors_list  \n",
      "0    [u'Tim Robbins', u'Morgan Freeman', u'Bob Gunt...  \n",
      "1      [u'Marlon Brando', u'Al Pacino', u'James Caan']  \n",
      "2    [u'Al Pacino', u'Robert De Niro', u'Robert Duv...  \n",
      "3    [u'Christian Bale', u'Heath Ledger', u'Aaron E...  \n",
      "4    [u'John Travolta', u'Uma Thurman', u'Samuel L....  \n",
      "5    [u'Henry Fonda', u'Lee J. Cobb', u'Martin Bals...  \n",
      "6    [u'Clint Eastwood', u'Eli Wallach', u'Lee Van ...  \n",
      "7    [u'Elijah Wood', u'Viggo Mortensen', u'Ian McK...  \n",
      "8    [u'Liam Neeson', u'Ralph Fiennes', u'Ben Kings...  \n",
      "9    [u'Brad Pitt', u'Edward Norton', u'Helena Bonh...  \n",
      "10   [u'Elijah Wood', u'Ian McKellen', u'Orlando Bl...  \n",
      "11   [u'Leonardo DiCaprio', u'Joseph Gordon-Levitt'...  \n",
      "12   [u'Mark Hamill', u'Harrison Ford', u'Carrie Fi...  \n",
      "13     [u'Tom Hanks', u'Robin Wright', u'Gary Sinise']  \n",
      "14   [u'Elijah Wood', u'Ian McKellen', u'Viggo Mort...  \n",
      "15   [u'Matthew McConaughey', u'Anne Hathaway', u'J...  \n",
      "16   [u'Jack Nicholson', u'Louise Fletcher', u'Mich...  \n",
      "17   [u'Toshir\\xf4 Mifune', u'Takashi Shimura', u'K...  \n",
      "18    [u'Robert De Niro', u'Ray Liotta', u'Joe Pesci']  \n",
      "19   [u'Mark Hamill', u'Harrison Ford', u'Carrie Fi...  \n",
      "20   [u'Keanu Reeves', u'Laurence Fishburne', u'Car...  \n",
      "21   [u'Alexandre Rodrigues', u'Matheus Nachtergael...  \n",
      "22   [u'James Stewart', u'Donna Reed', u'Lionel Bar...  \n",
      "23   [u'Kevin Spacey', u'Gabriel Byrne', u'Chazz Pa...  \n",
      "24   [u'Morgan Freeman', u'Brad Pitt', u'Kevin Spac...  \n",
      "25   [u'Roberto Benigni', u'Nicoletta Braschi', u'G...  \n",
      "26   [u'Henry Fonda', u'Charles Bronson', u'Claudia...  \n",
      "27   [u'Jodie Foster', u'Anthony Hopkins', u'Lawren...  \n",
      "28   [u'Jean Reno', u'Gary Oldman', u'Natalie Portm...  \n",
      "29   [u'Charles Chaplin', u'Virginia Cherrill', u'F...  \n",
      "..                                                 ...  \n",
      "949  [u'Macaulay Culkin', u'Joe Pesci', u'Daniel St...  \n",
      "950  [u'Jennifer Tilly', u'Gina Gershon', u'Joe Pan...  \n",
      "951  [u'Johnny Depp', u'Christina Ricci', u'Miranda...  \n",
      "952  [u'Philip Seymour Hoffman', u'Bill Nighy', u'N...  \n",
      "953  [u'Noah Hathaway', u'Barret Oliver', u'Tami St...  \n",
      "954  [u'Patrick Stewart', u'Hugh Jackman', u'Ian Mc...  \n",
      "955  [u'Jessica Chastain', u'Joel Edgerton', u'Chri...  \n",
      "956  [u'Woody Allen', u'Diane Keaton', u'Jerry Adler']  \n",
      "957  [u'Chevy Chase', u\"Beverly D'Angelo\", u'Imogen...  \n",
      "958  [u'Cameron Diaz', u'Abigail Breslin', u'Alec B...  \n",
      "959  [u'Woody Allen', u'Judy Davis', u'Julia Louis-...  \n",
      "960  [u'Steve Carell', u'Toni Collette', u'Allison ...  \n",
      "961  [u'Philip Seymour Hoffman', u'Clifton Collins ...  \n",
      "962  [u'Morgan Freeman', u'Jessica Tandy', u'Dan Ay...  \n",
      "963  [u'Anne Parillaud', u'Marc Duret', u'Patrick F...  \n",
      "964  [u'Daniel Day-Lewis', u'Sally Field', u'David ...  \n",
      "965  [u'Bradley Cooper', u'Anna Friel', u'Abbie Cor...  \n",
      "966  [u'Dan Castellaneta', u'Julie Kavner', u'Nancy...  \n",
      "967   [u'Sean Connery', u'Nicolas Cage', u'Ed Harris']  \n",
      "968  [u'Ralph Fiennes', u'Juliette Binoche', u'Will...  \n",
      "969  [u'Gerard Butler', u'Jamie Foxx', u'Leslie Bibb']  \n",
      "970  [u'Michael Douglas', u'Tobey Maguire', u'Franc...  \n",
      "971  [u'Matthew Macfadyen', u'Peter Dinklage', u'Ew...  \n",
      "972  [u'Ryan Gosling', u'Michelle Williams', u'John...  \n",
      "973  [u'Tobey Maguire', u'Charlize Theron', u'Micha...  \n",
      "974  [u'Dustin Hoffman', u'Jessica Lange', u'Teri G...  \n",
      "975  [u'Michael J. Fox', u'Christopher Lloyd', u'Ma...  \n",
      "976  [u'Russell Crowe', u'Paul Bettany', u'Billy Bo...  \n",
      "977  [u'JoBeth Williams', u\"Heather O'Rourke\", u'Cr...  \n",
      "978  [u'Charlie Sheen', u'Michael Douglas', u'Tamar...  \n",
      "\n",
      "[979 rows x 6 columns]\n"
     ]
    },
    {
     "data": {
      "text/html": [
       "<div>\n",
       "<style scoped>\n",
       "    .dataframe tbody tr th:only-of-type {\n",
       "        vertical-align: middle;\n",
       "    }\n",
       "\n",
       "    .dataframe tbody tr th {\n",
       "        vertical-align: top;\n",
       "    }\n",
       "\n",
       "    .dataframe thead th {\n",
       "        text-align: right;\n",
       "    }\n",
       "</style>\n",
       "<table border=\"1\" class=\"dataframe\">\n",
       "  <thead>\n",
       "    <tr style=\"text-align: right;\">\n",
       "      <th></th>\n",
       "      <th>title</th>\n",
       "    </tr>\n",
       "  </thead>\n",
       "  <tbody>\n",
       "    <tr>\n",
       "      <th>0</th>\n",
       "      <td>The Shawshank Redemption</td>\n",
       "    </tr>\n",
       "    <tr>\n",
       "      <th>1</th>\n",
       "      <td>The Godfather</td>\n",
       "    </tr>\n",
       "    <tr>\n",
       "      <th>2</th>\n",
       "      <td>The Godfather: Part II</td>\n",
       "    </tr>\n",
       "    <tr>\n",
       "      <th>3</th>\n",
       "      <td>The Dark Knight</td>\n",
       "    </tr>\n",
       "    <tr>\n",
       "      <th>4</th>\n",
       "      <td>Pulp Fiction</td>\n",
       "    </tr>\n",
       "  </tbody>\n",
       "</table>\n",
       "</div>"
      ],
      "text/plain": [
       "                      title\n",
       "0  The Shawshank Redemption\n",
       "1             The Godfather\n",
       "2    The Godfather: Part II\n",
       "3           The Dark Knight\n",
       "4              Pulp Fiction"
      ]
     },
     "execution_count": 38,
     "metadata": {},
     "output_type": "execute_result"
    }
   ],
   "source": [
    "# list first 5 movie titles\n",
    "import pandas as pd\n",
    "df=pd.read_csv(\"../Downloads/imdb_1000.csv\")\n",
    "print(df.iloc[:,:])\n",
    "df.iloc[0:5,1:2]"
   ]
  },
  {
   "cell_type": "code",
   "execution_count": 45,
   "metadata": {},
   "outputs": [
    {
     "name": "stdout",
     "output_type": "stream",
     "text": [
      "['star_rating', 'title', 'content_rating', 'genre', 'duration', 'actors_list']\n",
      "                      title   genre\n",
      "0  The Shawshank Redemption   Crime\n",
      "1             The Godfather   Crime\n",
      "2    The Godfather: Part II   Crime\n",
      "3           The Dark Knight  Action\n",
      "4              Pulp Fiction   Crime\n"
     ]
    }
   ],
   "source": [
    "# show only movie title and genre\n",
    "import pandas as pd\n",
    "dataframe=pd.read_csv(\"../Downloads/imdb_1000.csv\")\n",
    "#print(dataframe)\n",
    "print(list(dataframe))\n",
    "print(dataframe[['title','genre']].iloc[0:5])\n"
   ]
  },
  {
   "cell_type": "markdown",
   "metadata": {},
   "source": [
    "## Understanding columns\n",
    "\n",
    "On the inside, the type of a column is ``pd.Series`` and pandas Series are internally numpy arrays. If you add ``.values`` to the end of any Series, you'll get its internal **numpy array**."
   ]
  },
  {
   "cell_type": "code",
   "execution_count": 46,
   "metadata": {},
   "outputs": [
    {
     "name": "stdout",
     "output_type": "stream",
     "text": [
      "duration    int64\n",
      "dtype: object\n"
     ]
    }
   ],
   "source": [
    "# show the type of duration column\n",
    "print(df.dtypes[['duration']])"
   ]
  },
  {
   "cell_type": "code",
   "execution_count": 58,
   "metadata": {},
   "outputs": [
    {
     "name": "stdout",
     "output_type": "stream",
     "text": [
      "[142 175 200 152 154  96 161 201 195 139 178 148 124 142 179 169 133 207\n",
      " 146 121 136 130 130 106 127]\n"
     ]
    }
   ],
   "source": [
    "# show duration values of movies as numpy arrays\n",
    "#print(df.duration.values)\n",
    "print(df.duration.values[0:25])# if we want to print values upto 25th row\n",
    "#print(df[['duration']])#can be used onlu for printing as columns"
   ]
  },
  {
   "cell_type": "markdown",
   "metadata": {},
   "source": [
    "## Applying functions to columns\n",
    "\n",
    "Use `.apply` function to apply any function to each element of a column."
   ]
  },
  {
   "cell_type": "code",
   "execution_count": 79,
   "metadata": {},
   "outputs": [
    {
     "name": "stdout",
     "output_type": "stream",
     "text": [
      "['star_rating', 'title', 'content_rating', 'genre', 'duration', 'actors_list']\n",
      "                      title\n",
      "0  THE SHAWSHANK REDEMPTION\n",
      "1             THE GODFATHER\n",
      "2    THE GODFATHER: PART II\n",
      "3           THE DARK KNIGHT\n",
      "4              PULP FICTION\n",
      "\n",
      "0    THE SHAWSHANK REDEMPTION\n",
      "1               THE GODFATHER\n",
      "2      THE GODFATHER: PART II\n",
      "3             THE DARK KNIGHT\n",
      "4                PULP FICTION\n",
      "Name: title, dtype: object\n"
     ]
    }
   ],
   "source": [
    "# convert all the movie titles to uppercase\n",
    "print(list(df))\n",
    "df['title']=df['title'].str.upper()\n",
    "print(df[['title']][0:5],end=\"\\n\\n\")\n",
    "print(df.title[0:5])"
   ]
  },
  {
   "cell_type": "markdown",
   "metadata": {},
   "source": [
    "## Plotting a column\n",
    "\n",
    "Use ``.plot()`` function!"
   ]
  },
  {
   "cell_type": "code",
   "execution_count": 87,
   "metadata": {},
   "outputs": [
    {
     "name": "stdout",
     "output_type": "stream",
     "text": [
      "['Date;;Rachel / Papineau;Berri1;Maisonneuve_2;Maisonneuve_1;Brébeuf;Parc;PierDup;CSC (Côte Sainte-Catherine);Pont_Jacques_Cartier']\n"
     ]
    },
    {
     "ename": "AttributeError",
     "evalue": "'DataFrame' object has no attribute 'bikers'",
     "output_type": "error",
     "traceback": [
      "\u001b[1;31m---------------------------------------------------------------------------\u001b[0m",
      "\u001b[1;31mAttributeError\u001b[0m                            Traceback (most recent call last)",
      "\u001b[1;32m<ipython-input-87-4e295ee5630c>\u001b[0m in \u001b[0;36m<module>\u001b[1;34m\u001b[0m\n\u001b[0;32m      6\u001b[0m \u001b[1;31m#print(df_bike.iloc[0:5])\u001b[0m\u001b[1;33m\u001b[0m\u001b[1;33m\u001b[0m\u001b[1;33m\u001b[0m\u001b[0m\n\u001b[0;32m      7\u001b[0m \u001b[0mprint\u001b[0m\u001b[1;33m(\u001b[0m\u001b[0mlist\u001b[0m\u001b[1;33m(\u001b[0m\u001b[0mdf_bike\u001b[0m\u001b[1;33m)\u001b[0m\u001b[1;33m)\u001b[0m\u001b[1;33m\u001b[0m\u001b[1;33m\u001b[0m\u001b[0m\n\u001b[1;32m----> 8\u001b[1;33m \u001b[0mprint\u001b[0m\u001b[1;33m(\u001b[0m\u001b[0mplt\u001b[0m\u001b[1;33m.\u001b[0m\u001b[0mplot\u001b[0m\u001b[1;33m(\u001b[0m\u001b[1;33m[\u001b[0m\u001b[0mdf\u001b[0m\u001b[1;33m.\u001b[0m\u001b[0mbikers\u001b[0m\u001b[1;33m[\u001b[0m\u001b[1;36m0\u001b[0m\u001b[1;33m:\u001b[0m\u001b[1;36m10\u001b[0m\u001b[1;33m]\u001b[0m\u001b[1;33m,\u001b[0m\u001b[0mdf\u001b[0m\u001b[1;33m.\u001b[0m\u001b[0myears\u001b[0m\u001b[1;33m[\u001b[0m\u001b[1;36m0\u001b[0m\u001b[1;33m:\u001b[0m\u001b[1;36m10\u001b[0m\u001b[1;33m]\u001b[0m\u001b[1;33m]\u001b[0m\u001b[1;33m)\u001b[0m\u001b[1;33m)\u001b[0m\u001b[1;33m\u001b[0m\u001b[1;33m\u001b[0m\u001b[0m\n\u001b[0m",
      "\u001b[1;32m~\\Anaconda3\\lib\\site-packages\\pandas\\core\\generic.py\u001b[0m in \u001b[0;36m__getattr__\u001b[1;34m(self, name)\u001b[0m\n\u001b[0;32m   5065\u001b[0m             \u001b[1;32mif\u001b[0m \u001b[0mself\u001b[0m\u001b[1;33m.\u001b[0m\u001b[0m_info_axis\u001b[0m\u001b[1;33m.\u001b[0m\u001b[0m_can_hold_identifiers_and_holds_name\u001b[0m\u001b[1;33m(\u001b[0m\u001b[0mname\u001b[0m\u001b[1;33m)\u001b[0m\u001b[1;33m:\u001b[0m\u001b[1;33m\u001b[0m\u001b[1;33m\u001b[0m\u001b[0m\n\u001b[0;32m   5066\u001b[0m                 \u001b[1;32mreturn\u001b[0m \u001b[0mself\u001b[0m\u001b[1;33m[\u001b[0m\u001b[0mname\u001b[0m\u001b[1;33m]\u001b[0m\u001b[1;33m\u001b[0m\u001b[1;33m\u001b[0m\u001b[0m\n\u001b[1;32m-> 5067\u001b[1;33m             \u001b[1;32mreturn\u001b[0m \u001b[0mobject\u001b[0m\u001b[1;33m.\u001b[0m\u001b[0m__getattribute__\u001b[0m\u001b[1;33m(\u001b[0m\u001b[0mself\u001b[0m\u001b[1;33m,\u001b[0m \u001b[0mname\u001b[0m\u001b[1;33m)\u001b[0m\u001b[1;33m\u001b[0m\u001b[1;33m\u001b[0m\u001b[0m\n\u001b[0m\u001b[0;32m   5068\u001b[0m \u001b[1;33m\u001b[0m\u001b[0m\n\u001b[0;32m   5069\u001b[0m     \u001b[1;32mdef\u001b[0m \u001b[0m__setattr__\u001b[0m\u001b[1;33m(\u001b[0m\u001b[0mself\u001b[0m\u001b[1;33m,\u001b[0m \u001b[0mname\u001b[0m\u001b[1;33m,\u001b[0m \u001b[0mvalue\u001b[0m\u001b[1;33m)\u001b[0m\u001b[1;33m:\u001b[0m\u001b[1;33m\u001b[0m\u001b[1;33m\u001b[0m\u001b[0m\n",
      "\u001b[1;31mAttributeError\u001b[0m: 'DataFrame' object has no attribute 'bikers'"
     ]
    }
   ],
   "source": [
    "# plot the bikers travelling to Berri1 over the year\n",
    "import matplotlib.pyplot as plt\n",
    "import pandas as pd\n",
    "df_bike=pd.read_csv(\"../Downloads/Bikes.csv\")\n",
    "#print(df_bike[0:5])\n",
    "#print(df_bike.iloc[0:5])\n",
    "print(list(df_bike))\n",
    "print(plt.plot([df.bikers[0:10],df.years[0:10]]))"
   ]
  },
  {
   "cell_type": "code",
   "execution_count": null,
   "metadata": {},
   "outputs": [],
   "source": [
    "# plot all the columns of bikes_df"
   ]
  },
  {
   "cell_type": "markdown",
   "metadata": {},
   "source": [
    "## Value counts\n",
    "\n",
    "Get count of unique values in a particular column/Series."
   ]
  },
  {
   "cell_type": "code",
   "execution_count": 95,
   "metadata": {},
   "outputs": [
    {
     "name": "stdout",
     "output_type": "stream",
     "text": [
      "['Crime' 'Action' 'Drama' 'Western' 'Adventure' 'Biography' 'Comedy'\n",
      " 'Animation' 'Mystery' 'Horror' 'Film-Noir' 'Sci-Fi' 'History' 'Thriller'\n",
      " 'Family' 'Fantasy']\n"
     ]
    }
   ],
   "source": [
    "# what are the unique genre in imdb_df?\n",
    "import pandas as pd\n",
    "imdb_df=pd.read_csv(\"../Downloads/imdb_1000.csv\")\n",
    "#print(imdb_df[0:5])\n",
    "#print(imdb_df.head())\n",
    "#print(imdb_df.iloc[0:5,:])\n",
    "print(imdb_df.genre.unique())"
   ]
  },
  {
   "cell_type": "code",
   "execution_count": 121,
   "metadata": {},
   "outputs": [
    {
     "name": "stdout",
     "output_type": "stream",
     "text": [
      "Drama        278\n",
      "Comedy       156\n",
      "Action       136\n",
      "Crime        124\n",
      "Biography     77\n",
      "Adventure     75\n",
      "Animation     62\n",
      "Horror        29\n",
      "Mystery       16\n",
      "Western        9\n",
      "Thriller       5\n",
      "Sci-Fi         5\n",
      "Film-Noir      3\n",
      "Family         2\n",
      "Fantasy        1\n",
      "History        1\n",
      "Name: genre, dtype: int64\n"
     ]
    }
   ],
   "source": [
    "# plotting value counts of unique genres as a bar chart\n",
    "import matplotlib.pyplot as plt\n",
    "print(imdb_df.genre.value_counts())\n",
    "print(imdb_df.genre.value_counts().plot.bar())\n",
    "#db_random=pd.Dataframe([np.arange(0,10,5),['cricket','football','tennis']])\n",
    "#db_random.plot.bar()\n",
    "#df = pd.DataFrame(np.random.rand(10, 3), columns =['a', 'b', 'c']) \n",
    "#print(df) "
   ]
  },
  {
   "cell_type": "code",
   "execution_count": 131,
   "metadata": {},
   "outputs": [
    {
     "name": "stdout",
     "output_type": "stream",
     "text": [
      "AxesSubplot(0.260833,0.125;0.503333x0.755)\n",
      "AxesSubplot(0.260833,0.125;0.503333x0.755)\n"
     ]
    },
    {
     "data": {
      "image/png": "[encoded data removed]",
      "text/plain": [
       "<Figure size 432x288 with 1 Axes>"
      ]
     },
     "metadata": {},
     "output_type": "display_data"
    }
   ],
   "source": [
    "# plotting value counts of unique genres as a pie chart\n",
    "import pandas as pd\n",
    "import matplotlib.pyplot as plt\n",
    "imdb_df=pd.read_csv(\"../Downloads/imdb_1000.csv\")\n",
    "print(imdb_df.genre[0:10].value_counts().plot.pie())\n",
    "#print(\"\\n\\n\\n\\n\\n\\n\\n\\n\\n\\n\\n\\n\\n\")\n",
    "print(imdb_df.genre.value_counts().plot.pie())"
   ]
  },
  {
   "cell_type": "markdown",
   "metadata": {},
   "source": [
    "## Index\n",
    "\n",
    "### DATAFRAME = COLUMNS + INDEX + ND DATA\n",
    "\n",
    "### SERIES = INDEX + 1-D DATA\n",
    "\n",
    "**Index** or (**row labels**) is one of the fundamental data structure of pandas. It can be thought of as an **immutable array** and an **ordered set**.\n",
    "\n",
    "> Every row is uniquely identified by its index value."
   ]
  },
  {
   "cell_type": "code",
   "execution_count": 136,
   "metadata": {},
   "outputs": [
    {
     "name": "stdout",
     "output_type": "stream",
     "text": [
      "[0, 1, 2, 3, 4, 5, 6, 7, 8, 9, 10, 11, 12, 13, 14, 15, 16, 17, 18, 19, 20, 21, 22, 23, 24, 25, 26, 27, 28, 29, 30, 31, 32, 33, 34, 35, 36, 37, 38, 39, 40, 41, 42, 43, 44, 45, 46, 47, 48, 49, 50, 51, 52, 53, 54, 55, 56, 57, 58, 59, 60, 61, 62, 63, 64, 65, 66, 67, 68, 69, 70, 71, 72, 73, 74, 75, 76, 77, 78, 79, 80, 81, 82, 83, 84, 85, 86, 87, 88, 89, 90, 91, 92, 93, 94, 95, 96, 97, 98, 99, 100, 101, 102, 103, 104, 105, 106, 107, 108, 109, 110, 111, 112, 113, 114, 115, 116, 117, 118, 119, 120, 121, 122, 123, 124, 125, 126, 127, 128, 129, 130, 131, 132, 133, 134, 135, 136, 137, 138, 139, 140, 141, 142, 143, 144, 145, 146, 147, 148, 149, 150, 151, 152, 153, 154, 155, 156, 157, 158, 159, 160, 161, 162, 163, 164, 165, 166, 167, 168, 169, 170, 171, 172, 173, 174, 175, 176, 177, 178, 179, 180, 181, 182, 183, 184, 185, 186, 187, 188, 189, 190, 191, 192, 193, 194, 195, 196, 197, 198, 199, 200, 201, 202, 203, 204, 205, 206, 207, 208, 209, 210, 211, 212, 213, 214, 215, 216, 217, 218, 219, 220, 221, 222, 223, 224, 225, 226, 227, 228, 229, 230, 231, 232, 233, 234, 235, 236, 237, 238, 239, 240, 241, 242, 243, 244, 245, 246, 247, 248, 249, 250, 251, 252, 253, 254, 255, 256, 257, 258, 259, 260, 261, 262, 263, 264, 265, 266, 267, 268, 269, 270, 271, 272, 273, 274, 275, 276, 277, 278, 279, 280, 281, 282, 283, 284, 285, 286, 287, 288, 289, 290, 291, 292, 293, 294, 295, 296, 297, 298, 299, 300, 301, 302, 303, 304, 305, 306, 307, 308, 309, 310, 311, 312, 313, 314, 315, 316, 317, 318, 319, 320, 321, 322, 323, 324, 325, 326, 327, 328, 329, 330, 331, 332, 333, 334, 335, 336, 337, 338, 339, 340, 341, 342, 343, 344, 345, 346, 347, 348, 349, 350, 351, 352, 353, 354, 355, 356, 357, 358, 359, 360, 361, 362, 363, 364, 365]\n"
     ]
    }
   ],
   "source": [
    "# show index of bikes_df\n",
    "import pandas as pd\n",
    "df_bikes=pd.read_csv(\"../Downloads/bikes.csv\")\n",
    "#print(df_bikes.index)\n",
    "print(df_bikes.index.tolist())"
   ]
  },
  {
   "cell_type": "code",
   "execution_count": 140,
   "metadata": {},
   "outputs": [
    {
     "name": "stdout",
     "output_type": "stream",
     "text": [
      "['Date;;Rachel / Papineau;Berri1;Maisonneuve_2;Maisonneuve_1;Brébeuf;Parc;PierDup;CSC (Côte Sainte-Catherine);Pont_Jacques_Cartier']\n"
     ]
    }
   ],
   "source": [
    "# get row for date 2012-01-01\n",
    "print(list(df_bikes))"
   ]
  },
  {
   "cell_type": "markdown",
   "metadata": {},
   "source": [
    "#### To get row by integer index:\n",
    "\n",
    "Use ``.iloc[]`` for purely integer-location based indexing for selection by position."
   ]
  },
  {
   "cell_type": "code",
   "execution_count": 142,
   "metadata": {},
   "outputs": [
    {
     "name": "stdout",
     "output_type": "stream",
     "text": [
      "    star_rating      title content_rating   genre  duration  \\\n",
      "11          8.8  Inception          PG-13  Action       148   \n",
      "\n",
      "                                          actors_list  \n",
      "11  [u'Leonardo DiCaprio', u'Joseph Gordon-Levitt'...  \n"
     ]
    }
   ],
   "source": [
    "# show 11th row of imdb_df using iloc\n",
    "print(imdb_df.iloc[11:12])"
   ]
  },
  {
   "cell_type": "markdown",
   "metadata": {},
   "source": [
    "## Selecting rows where column has a particular value"
   ]
  },
  {
   "cell_type": "code",
   "execution_count": 165,
   "metadata": {},
   "outputs": [
    {
     "name": "stdout",
     "output_type": "stream",
     "text": [
      "     star_rating                                              title  \\\n",
      "7            8.9      The Lord of the Rings: The Return of the King   \n",
      "10           8.8  The Lord of the Rings: The Fellowship of the Ring   \n",
      "14           8.8              The Lord of the Rings: The Two Towers   \n",
      "15           8.7                                       Interstellar   \n",
      "54           8.5                                 Back to the Future   \n",
      "68           8.4                                           Das Boot   \n",
      "71           8.4                                 North by Northwest   \n",
      "85           8.4                                 Lawrence of Arabia   \n",
      "101          8.3                    Monty Python and the Holy Grail   \n",
      "114          8.3                               Inglourious Basterds   \n",
      "\n",
      "    content_rating      genre  duration  \\\n",
      "7            PG-13  Adventure       201   \n",
      "10           PG-13  Adventure       178   \n",
      "14           PG-13  Adventure       179   \n",
      "15           PG-13  Adventure       169   \n",
      "54              PG  Adventure       116   \n",
      "68               R  Adventure       149   \n",
      "71        APPROVED  Adventure       136   \n",
      "85              PG  Adventure       216   \n",
      "101             PG  Adventure        91   \n",
      "114              R  Adventure       153   \n",
      "\n",
      "                                           actors_list  \n",
      "7    [u'Elijah Wood', u'Viggo Mortensen', u'Ian McK...  \n",
      "10   [u'Elijah Wood', u'Ian McKellen', u'Orlando Bl...  \n",
      "14   [u'Elijah Wood', u'Ian McKellen', u'Viggo Mort...  \n",
      "15   [u'Matthew McConaughey', u'Anne Hathaway', u'J...  \n",
      "54   [u'Michael J. Fox', u'Christopher Lloyd', u'Le...  \n",
      "68   [u'J\\xfcrgen Prochnow', u'Herbert Gr\\xf6nemeye...  \n",
      "71   [u'Cary Grant', u'Eva Marie Saint', u'James Ma...  \n",
      "85   [u\"Peter O'Toole\", u'Alec Guinness', u'Anthony...  \n",
      "101  [u'Graham Chapman', u'John Cleese', u'Eric Idle']  \n",
      "114       [u'Brad Pitt', u'Diane Kruger', u'Eli Roth']  \n",
      "     star_rating                                              title  \\\n",
      "7            8.9      The Lord of the Rings: The Return of the King   \n",
      "10           8.8  The Lord of the Rings: The Fellowship of the Ring   \n",
      "14           8.8              The Lord of the Rings: The Two Towers   \n",
      "15           8.7                                       Interstellar   \n",
      "54           8.5                                 Back to the Future   \n",
      "68           8.4                                           Das Boot   \n",
      "71           8.4                                 North by Northwest   \n",
      "85           8.4                                 Lawrence of Arabia   \n",
      "101          8.3                    Monty Python and the Holy Grail   \n",
      "114          8.3                               Inglourious Basterds   \n",
      "\n",
      "    content_rating      genre  duration  \\\n",
      "7            PG-13  Adventure       201   \n",
      "10           PG-13  Adventure       178   \n",
      "14           PG-13  Adventure       179   \n",
      "15           PG-13  Adventure       169   \n",
      "54              PG  Adventure       116   \n",
      "68               R  Adventure       149   \n",
      "71        APPROVED  Adventure       136   \n",
      "85              PG  Adventure       216   \n",
      "101             PG  Adventure        91   \n",
      "114              R  Adventure       153   \n",
      "\n",
      "                                           actors_list  \n",
      "7    [u'Elijah Wood', u'Viggo Mortensen', u'Ian McK...  \n",
      "10   [u'Elijah Wood', u'Ian McKellen', u'Orlando Bl...  \n",
      "14   [u'Elijah Wood', u'Ian McKellen', u'Viggo Mort...  \n",
      "15   [u'Matthew McConaughey', u'Anne Hathaway', u'J...  \n",
      "54   [u'Michael J. Fox', u'Christopher Lloyd', u'Le...  \n",
      "68   [u'J\\xfcrgen Prochnow', u'Herbert Gr\\xf6nemeye...  \n",
      "71   [u'Cary Grant', u'Eva Marie Saint', u'James Ma...  \n",
      "85   [u\"Peter O'Toole\", u'Alec Guinness', u'Anthony...  \n",
      "101  [u'Graham Chapman', u'John Cleese', u'Eric Idle']  \n",
      "114       [u'Brad Pitt', u'Diane Kruger', u'Eli Roth']  \n"
     ]
    }
   ],
   "source": [
    "# select only those movies where genre is adventure\n",
    "#print(imdb_df.loc[imdb_df['adventure']==imdb['genre']])\n",
    "import pandas as pd\n",
    "import matplotlib.pyplot as plt\n",
    "imdb_df=pd.read_csv(\"../Downloads/imdb_1000.csv\")\n",
    "#print(imdb_df)\n",
    "#print(list(imdb_df))\n",
    "print(imdb_df.loc[imdb_df['genre'].isin(['Adventure'])][0:10])\n",
    "print(imdb_df.loc[imdb_df['genre']=='Adventure'][0:10])"
   ]
  },
  {
   "cell_type": "code",
   "execution_count": 185,
   "metadata": {},
   "outputs": [
    {
     "data": {
      "text/plain": [
       "Drama    36\n",
       "Name: genre, dtype: int64"
      ]
     },
     "execution_count": 185,
     "metadata": {},
     "output_type": "execute_result"
    }
   ],
   "source": [
    "# which genre has highest number of movies with star rating above 8 and duration more than 130 minutes?\n",
    "#print(list(imdb_df))\n",
    "movies=(imdb_df['duration']>130) & (imdb_df['star_rating']>8)\n",
    "imdb_df[movies]['genre'].value_counts().iloc[0:1]"
   ]
  },
  {
   "cell_type": "markdown",
   "metadata": {},
   "source": [
    "## Adding a new column to DataFrame"
   ]
  },
  {
   "cell_type": "code",
   "execution_count": 195,
   "metadata": {},
   "outputs": [
    {
     "ename": "ValueError",
     "evalue": "Length of values does not match length of index",
     "output_type": "error",
     "traceback": [
      "\u001b[1;31m---------------------------------------------------------------------------\u001b[0m",
      "\u001b[1;31mValueError\u001b[0m                                Traceback (most recent call last)",
      "\u001b[1;32m<ipython-input-195-db5f49630766>\u001b[0m in \u001b[0;36m<module>\u001b[1;34m\u001b[0m\n\u001b[0;32m      2\u001b[0m \u001b[1;31m#print(df_bikes)\u001b[0m\u001b[1;33m\u001b[0m\u001b[1;33m\u001b[0m\u001b[1;33m\u001b[0m\u001b[0m\n\u001b[0;32m      3\u001b[0m \u001b[1;31m#weekday=['']\u001b[0m\u001b[1;33m\u001b[0m\u001b[1;33m\u001b[0m\u001b[1;33m\u001b[0m\u001b[0m\n\u001b[1;32m----> 4\u001b[1;33m \u001b[0mdf_bikes\u001b[0m\u001b[1;33m[\u001b[0m\u001b[1;34m'weekday'\u001b[0m\u001b[1;33m]\u001b[0m\u001b[1;33m=\u001b[0m\u001b[0mweekday\u001b[0m\u001b[1;33m\u001b[0m\u001b[1;33m\u001b[0m\u001b[0m\n\u001b[0m\u001b[0;32m      5\u001b[0m \u001b[0mprint\u001b[0m\u001b[1;33m(\u001b[0m\u001b[0mlist\u001b[0m\u001b[1;33m(\u001b[0m\u001b[0mdf_bikes\u001b[0m\u001b[1;33m)\u001b[0m\u001b[1;33m)\u001b[0m\u001b[1;33m\u001b[0m\u001b[1;33m\u001b[0m\u001b[0m\n",
      "\u001b[1;32m~\\Anaconda3\\lib\\site-packages\\pandas\\core\\frame.py\u001b[0m in \u001b[0;36m__setitem__\u001b[1;34m(self, key, value)\u001b[0m\n\u001b[0;32m   3368\u001b[0m         \u001b[1;32melse\u001b[0m\u001b[1;33m:\u001b[0m\u001b[1;33m\u001b[0m\u001b[1;33m\u001b[0m\u001b[0m\n\u001b[0;32m   3369\u001b[0m             \u001b[1;31m# set column\u001b[0m\u001b[1;33m\u001b[0m\u001b[1;33m\u001b[0m\u001b[1;33m\u001b[0m\u001b[0m\n\u001b[1;32m-> 3370\u001b[1;33m             \u001b[0mself\u001b[0m\u001b[1;33m.\u001b[0m\u001b[0m_set_item\u001b[0m\u001b[1;33m(\u001b[0m\u001b[0mkey\u001b[0m\u001b[1;33m,\u001b[0m \u001b[0mvalue\u001b[0m\u001b[1;33m)\u001b[0m\u001b[1;33m\u001b[0m\u001b[1;33m\u001b[0m\u001b[0m\n\u001b[0m\u001b[0;32m   3371\u001b[0m \u001b[1;33m\u001b[0m\u001b[0m\n\u001b[0;32m   3372\u001b[0m     \u001b[1;32mdef\u001b[0m \u001b[0m_setitem_slice\u001b[0m\u001b[1;33m(\u001b[0m\u001b[0mself\u001b[0m\u001b[1;33m,\u001b[0m \u001b[0mkey\u001b[0m\u001b[1;33m,\u001b[0m \u001b[0mvalue\u001b[0m\u001b[1;33m)\u001b[0m\u001b[1;33m:\u001b[0m\u001b[1;33m\u001b[0m\u001b[1;33m\u001b[0m\u001b[0m\n",
      "\u001b[1;32m~\\Anaconda3\\lib\\site-packages\\pandas\\core\\frame.py\u001b[0m in \u001b[0;36m_set_item\u001b[1;34m(self, key, value)\u001b[0m\n\u001b[0;32m   3443\u001b[0m \u001b[1;33m\u001b[0m\u001b[0m\n\u001b[0;32m   3444\u001b[0m         \u001b[0mself\u001b[0m\u001b[1;33m.\u001b[0m\u001b[0m_ensure_valid_index\u001b[0m\u001b[1;33m(\u001b[0m\u001b[0mvalue\u001b[0m\u001b[1;33m)\u001b[0m\u001b[1;33m\u001b[0m\u001b[1;33m\u001b[0m\u001b[0m\n\u001b[1;32m-> 3445\u001b[1;33m         \u001b[0mvalue\u001b[0m \u001b[1;33m=\u001b[0m \u001b[0mself\u001b[0m\u001b[1;33m.\u001b[0m\u001b[0m_sanitize_column\u001b[0m\u001b[1;33m(\u001b[0m\u001b[0mkey\u001b[0m\u001b[1;33m,\u001b[0m \u001b[0mvalue\u001b[0m\u001b[1;33m)\u001b[0m\u001b[1;33m\u001b[0m\u001b[1;33m\u001b[0m\u001b[0m\n\u001b[0m\u001b[0;32m   3446\u001b[0m         \u001b[0mNDFrame\u001b[0m\u001b[1;33m.\u001b[0m\u001b[0m_set_item\u001b[0m\u001b[1;33m(\u001b[0m\u001b[0mself\u001b[0m\u001b[1;33m,\u001b[0m \u001b[0mkey\u001b[0m\u001b[1;33m,\u001b[0m \u001b[0mvalue\u001b[0m\u001b[1;33m)\u001b[0m\u001b[1;33m\u001b[0m\u001b[1;33m\u001b[0m\u001b[0m\n\u001b[0;32m   3447\u001b[0m \u001b[1;33m\u001b[0m\u001b[0m\n",
      "\u001b[1;32m~\\Anaconda3\\lib\\site-packages\\pandas\\core\\frame.py\u001b[0m in \u001b[0;36m_sanitize_column\u001b[1;34m(self, key, value, broadcast)\u001b[0m\n\u001b[0;32m   3628\u001b[0m \u001b[1;33m\u001b[0m\u001b[0m\n\u001b[0;32m   3629\u001b[0m             \u001b[1;31m# turn me into an ndarray\u001b[0m\u001b[1;33m\u001b[0m\u001b[1;33m\u001b[0m\u001b[1;33m\u001b[0m\u001b[0m\n\u001b[1;32m-> 3630\u001b[1;33m             \u001b[0mvalue\u001b[0m \u001b[1;33m=\u001b[0m \u001b[0msanitize_index\u001b[0m\u001b[1;33m(\u001b[0m\u001b[0mvalue\u001b[0m\u001b[1;33m,\u001b[0m \u001b[0mself\u001b[0m\u001b[1;33m.\u001b[0m\u001b[0mindex\u001b[0m\u001b[1;33m,\u001b[0m \u001b[0mcopy\u001b[0m\u001b[1;33m=\u001b[0m\u001b[1;32mFalse\u001b[0m\u001b[1;33m)\u001b[0m\u001b[1;33m\u001b[0m\u001b[1;33m\u001b[0m\u001b[0m\n\u001b[0m\u001b[0;32m   3631\u001b[0m             \u001b[1;32mif\u001b[0m \u001b[1;32mnot\u001b[0m \u001b[0misinstance\u001b[0m\u001b[1;33m(\u001b[0m\u001b[0mvalue\u001b[0m\u001b[1;33m,\u001b[0m \u001b[1;33m(\u001b[0m\u001b[0mnp\u001b[0m\u001b[1;33m.\u001b[0m\u001b[0mndarray\u001b[0m\u001b[1;33m,\u001b[0m \u001b[0mIndex\u001b[0m\u001b[1;33m)\u001b[0m\u001b[1;33m)\u001b[0m\u001b[1;33m:\u001b[0m\u001b[1;33m\u001b[0m\u001b[1;33m\u001b[0m\u001b[0m\n\u001b[0;32m   3632\u001b[0m                 \u001b[1;32mif\u001b[0m \u001b[0misinstance\u001b[0m\u001b[1;33m(\u001b[0m\u001b[0mvalue\u001b[0m\u001b[1;33m,\u001b[0m \u001b[0mlist\u001b[0m\u001b[1;33m)\u001b[0m \u001b[1;32mand\u001b[0m \u001b[0mlen\u001b[0m\u001b[1;33m(\u001b[0m\u001b[0mvalue\u001b[0m\u001b[1;33m)\u001b[0m \u001b[1;33m>\u001b[0m \u001b[1;36m0\u001b[0m\u001b[1;33m:\u001b[0m\u001b[1;33m\u001b[0m\u001b[1;33m\u001b[0m\u001b[0m\n",
      "\u001b[1;32m~\\Anaconda3\\lib\\site-packages\\pandas\\core\\internals\\construction.py\u001b[0m in \u001b[0;36msanitize_index\u001b[1;34m(data, index, copy)\u001b[0m\n\u001b[0;32m    517\u001b[0m \u001b[1;33m\u001b[0m\u001b[0m\n\u001b[0;32m    518\u001b[0m     \u001b[1;32mif\u001b[0m \u001b[0mlen\u001b[0m\u001b[1;33m(\u001b[0m\u001b[0mdata\u001b[0m\u001b[1;33m)\u001b[0m \u001b[1;33m!=\u001b[0m \u001b[0mlen\u001b[0m\u001b[1;33m(\u001b[0m\u001b[0mindex\u001b[0m\u001b[1;33m)\u001b[0m\u001b[1;33m:\u001b[0m\u001b[1;33m\u001b[0m\u001b[1;33m\u001b[0m\u001b[0m\n\u001b[1;32m--> 519\u001b[1;33m         \u001b[1;32mraise\u001b[0m \u001b[0mValueError\u001b[0m\u001b[1;33m(\u001b[0m\u001b[1;34m'Length of values does not match length of index'\u001b[0m\u001b[1;33m)\u001b[0m\u001b[1;33m\u001b[0m\u001b[1;33m\u001b[0m\u001b[0m\n\u001b[0m\u001b[0;32m    520\u001b[0m \u001b[1;33m\u001b[0m\u001b[0m\n\u001b[0;32m    521\u001b[0m     \u001b[1;32mif\u001b[0m \u001b[0misinstance\u001b[0m\u001b[1;33m(\u001b[0m\u001b[0mdata\u001b[0m\u001b[1;33m,\u001b[0m \u001b[0mABCIndexClass\u001b[0m\u001b[1;33m)\u001b[0m \u001b[1;32mand\u001b[0m \u001b[1;32mnot\u001b[0m \u001b[0mcopy\u001b[0m\u001b[1;33m:\u001b[0m\u001b[1;33m\u001b[0m\u001b[1;33m\u001b[0m\u001b[0m\n",
      "\u001b[1;31mValueError\u001b[0m: Length of values does not match length of index"
     ]
    }
   ],
   "source": [
    "# add a weekday column to bikes_df\n",
    "#print(df_bikes)\n",
    "#weekday=['']\n",
    "df_bikes['weekday']=weekday\n",
    "print(list(df_bikes))"
   ]
  },
  {
   "cell_type": "markdown",
   "metadata": {},
   "source": [
    "## Deleting an existing column from DataFrame"
   ]
  },
  {
   "cell_type": "code",
   "execution_count": 202,
   "metadata": {},
   "outputs": [],
   "source": [
    "# remove column 'Unnamed: 1' from bikes_df\n",
    "#print(df_bikes)\n",
    "df_bikes=df_bikes.drop('Unnamed: 1',1)"
   ]
  },
  {
   "cell_type": "markdown",
   "metadata": {},
   "source": [
    "## Deleting a row in DataFrame"
   ]
  },
  {
   "cell_type": "code",
   "execution_count": 211,
   "metadata": {},
   "outputs": [
    {
     "name": "stdout",
     "output_type": "stream",
     "text": [
      "[  8   9  10  11  12  13  14  15  16  17  18  19  20  21  22  23  24  25\n",
      "  26  27  28  29  30  31  32  33  34  35  36  37  38  39  40  41  42  43\n",
      "  44  45  46  47  48  49  50  51  52  53  54  55  56  57  58  59  60  61\n",
      "  62  63  64  65  66  67  68  69  70  71  72  73  74  75  76  77  78  79\n",
      "  80  81  82  83  84  85  86  87  88  89  90  91  92  93  94  95  96  97\n",
      "  98  99 100 101 102 103 104 105 106 107 108 109 110 111 112 113 114 115\n",
      " 116 117 118 119 120 121 122 123 124 125 126 127 128 129 130 131 132 133\n",
      " 134 135 136 137 138 139 140 141 142 143 144 145 146 147 148 149 150 151\n",
      " 152 153 154 155 156 157 158 159 160 161 162 163 164 165 166 167 168 169\n",
      " 170 171 172 173 174 175 176 177 178 179 180 181 182 183 184 185 186 187\n",
      " 188 189 190 191 192 193 194 195 196 197 198 199 200 201 202 203 204 205\n",
      " 206 207 208 209 210 211 212 213 214 215 216 217 218 219 220 221 222 223\n",
      " 224 225 226 227 228 229 230 231 232 233 234 235 236 237 238 239 240 241\n",
      " 242 243 244 245 246 247 248 249 250 251 252 253 254 255 256 257 258 259\n",
      " 260 261 262 263 264 265 266 267 268 269 270 271 272 273 274 275 276 277\n",
      " 278 279 280 281 282 283 284 285 286 287 288 289 290 291 292 293 294 295\n",
      " 296 297 298 299 300 301 302 303 304 305 306 307 308 309 310 311 312 313\n",
      " 314 315 316 317 318 319 320 321 322 323 324 325 326 327 328 329 330 331\n",
      " 332 333 334 335 336 337 338 339 340 341 342 343 344 345 346 347 348 349\n",
      " 350 351 352 353 354 355 356 357 358 359 360 361 362 363 364 365]\n"
     ]
    }
   ],
   "source": [
    "# remove row no. 1 from bikes_df\n",
    "df_bikes=df_bikes.iloc[1:]\n",
    "#df_bikes.drop(df_bikes.index[0])\n",
    "print(df_bikes.index.values)"
   ]
  },
  {
   "cell_type": "markdown",
   "metadata": {},
   "source": [
    "## Group By\n",
    "\n",
    "Any groupby operation involves one of the following operations on the original object. They are −\n",
    "\n",
    "- Splitting the Object\n",
    "\n",
    "- Applying a function\n",
    "\n",
    "- Combining the results\n",
    "\n",
    "In many situations, we split the data into sets and we apply some functionality on each subset. In the apply functionality, we can perform the following operations −\n",
    "\n",
    "- **Aggregation** − computing a summary statistic\n",
    "\n",
    "- **Transformation** − perform some group-specific operation\n",
    "\n",
    "- **Filtration** − discarding the data with some condition"
   ]
  },
  {
   "cell_type": "code",
   "execution_count": 226,
   "metadata": {},
   "outputs": [],
   "source": [
    "# group imdb_df by movie genres\n",
    "import pandas as pd\n",
    "df=pd.read_csv('../Downloads/imdb_1000.csv')\n",
    "k=df.groupby('genre')\n",
    "#print(df)"
   ]
  },
  {
   "cell_type": "code",
   "execution_count": null,
   "metadata": {},
   "outputs": [],
   "source": [
    "# get crime movies group\n",
    "k.get_group('crime')"
   ]
  },
  {
   "cell_type": "code",
   "execution_count": 234,
   "metadata": {},
   "outputs": [
    {
     "name": "stdout",
     "output_type": "stream",
     "text": [
      "['star_rating', 'title', 'content_rating', 'genre', 'duration', 'actors_list']\n"
     ]
    },
    {
     "data": {
      "text/plain": [
       "genre\n",
       "Action       126.485294\n",
       "Adventure    134.840000\n",
       "Animation     96.596774\n",
       "Biography    131.844156\n",
       "Comedy       107.602564\n",
       "Crime        122.298387\n",
       "Drama        126.539568\n",
       "Family       107.500000\n",
       "Fantasy      112.000000\n",
       "Film-Noir     97.333333\n",
       "History       66.000000\n",
       "Horror       102.517241\n",
       "Mystery      115.625000\n",
       "Sci-Fi       109.000000\n",
       "Thriller     114.200000\n",
       "Western      136.666667\n",
       "Name: duration, dtype: float64"
      ]
     },
     "execution_count": 234,
     "metadata": {},
     "output_type": "execute_result"
    }
   ],
   "source": [
    "# get mean of movie durations for each group\n",
    "import numpy as np\n",
    "print(list(df))\n",
    "k['duration'].agg(np.mean)"
   ]
  },
  {
   "cell_type": "code",
   "execution_count": null,
   "metadata": {},
   "outputs": [],
   "source": [
    "# change duration of all movies in a particular genre to mean duration of the group\n"
   ]
  },
  {
   "cell_type": "code",
   "execution_count": null,
   "metadata": {},
   "outputs": [],
   "source": [
    "# drop groups/genres that do not have average movie duration greater than 120."
   ]
  },
  {
   "cell_type": "code",
   "execution_count": 237,
   "metadata": {},
   "outputs": [],
   "source": [
    "# group weekday wise bikers count\n",
    "#print(df_bikes)\n",
    "W=df_bikes.groupby('weekday')"
   ]
  },
  {
   "cell_type": "code",
   "execution_count": null,
   "metadata": {},
   "outputs": [],
   "source": [
    "# get weekday wise biker count\n",
    "W.get_group('weekday')"
   ]
  },
  {
   "cell_type": "code",
   "execution_count": null,
   "metadata": {},
   "outputs": [],
   "source": [
    "# plot weekday wise biker count for 'Berri1'\n",
    "df_bikes.weekday.value_counts().plot.bar()"
   ]
  },
  {
   "cell_type": "markdown",
   "metadata": {},
   "source": [
    "![](https://memegenerator.net/img/instances/500x/73988569/pythonpandas-is-easy-import-and-go.jpg)"
   ]
  }
 ],
 "metadata": {
  "kernelspec": {
   "display_name": "Python 3",
   "language": "python",
   "name": "python3"
  },
  "language_info": {
   "codemirror_mode": {
    "name": "ipython",
    "version": 3
   },
   "file_extension": ".py",
   "mimetype": "text/x-python",
   "name": "python",
   "nbconvert_exporter": "python",
   "pygments_lexer": "ipython3",
   "version": "3.7.3"
  }
 },
 "nbformat": 4,
 "nbformat_minor": 2
}
