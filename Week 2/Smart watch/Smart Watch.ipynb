{
 "cells": [
  {
   "cell_type": "code",
   "execution_count": 1,
   "metadata": {},
   "outputs": [],
   "source": [
    "#importing libraries\n",
    "import numpy as np\n",
    "import pandas as pd\n",
    "import matplotlib.pyplot as plt"
   ]
  },
  {
   "cell_type": "code",
   "execution_count": 2,
   "metadata": {},
   "outputs": [
    {
     "name": "stdout",
     "output_type": "stream",
     "text": [
      "[[-0.28930742]\n",
      " [-0.58880963]\n",
      " [ 1.02750749]\n",
      " ...\n",
      " [-0.30516366]\n",
      " [ 1.67583291]\n",
      " [-0.49175724]]\n",
      "(3750,)\n"
     ]
    }
   ],
   "source": [
    "df_x=pd.read_csv(\"../Downloads/Linear_X_Train.csv\")   # collecting values of x and y into dataframe\n",
    "df_y=pd.read_csv(\"../Downloads/Linear_Y_Train.csv\")\n",
    "x=df_x.values\n",
    "y=df_y.values\n",
    "print(x)\n",
    "x = x.reshape((-1,))\n",
    "y = y.reshape((-1,))\n",
    "x=(x-x.mean())/x.std()  # feature scalling\n",
    "print(x.shape)\n",
    "#plt.scatter(x,y)\n",
    "#plt.show()\n",
    "\n"
   ]
  },
  {
   "cell_type": "code",
   "execution_count": 3,
   "metadata": {},
   "outputs": [],
   "source": [
    "#hypothesis\n",
    "def hypothesis(x,theta):\n",
    "    return theta[0]+theta[1]*x"
   ]
  },
  {
   "cell_type": "code",
   "execution_count": 4,
   "metadata": {},
   "outputs": [],
   "source": [
    "#error function\n",
    "def error(x,y,theta):\n",
    "    e=0.0\n",
    "    m=x.shape[0]\n",
    "    for i in range(m):\n",
    "        hx=hypothesis(x[i],theta)\n",
    "        e+=(hx-y[i])*(hx-y[i])\n",
    "    #print(e)    \n",
    "    return e    "
   ]
  },
  {
   "cell_type": "code",
   "execution_count": 5,
   "metadata": {},
   "outputs": [],
   "source": [
    "#gredient\n",
    "def gredient(x,y,theta):\n",
    "    grad=np.array([0.0,0.0])\n",
    "    m=x.shape[0]\n",
    "    for i in range(m):\n",
    "        hx=hypothesis(x[i],theta)\n",
    "        grad[0]=grad[0]+(hx-y[i])\n",
    "        grad[1]=grad[1]+(hx-y[i])*x[i] \n",
    "   # print(grad)    \n",
    "    return grad"
   ]
  },
  {
   "cell_type": "code",
   "execution_count": 6,
   "metadata": {},
   "outputs": [],
   "source": [
    "#gredient descent\n",
    "def GradientDescent(x,y,learning_rate=.0001):\n",
    "    theta=np.array([0.7,0.5])\n",
    "    err_arr=[]\n",
    "    theta_arr=[]\n",
    "    max_itr=100\n",
    "    for i in range(max_itr):\n",
    "        g=gredient(x,y,theta)\n",
    "        e=error(x,y,theta)\n",
    "        theta_arr.append([theta[0],theta[1]])\n",
    "        err_arr=np.append(err_arr,[e])\n",
    "        theta[0]=theta[0]-learning_rate*(g[0]) \n",
    "        theta[1]=theta[1]-learning_rate*(g[1])\n",
    "    #print(theta)\n",
    "   # print(err_arr)\n",
    "    #print(theta_arr)\n",
    "    return theta,err_arr,theta_arr   "
   ]
  },
  {
   "cell_type": "code",
   "execution_count": 7,
   "metadata": {},
   "outputs": [],
   "source": [
    "theta, error_list,theta_list = GradientDescent(x,y)   "
   ]
  },
  {
   "cell_type": "code",
   "execution_count": 8,
   "metadata": {},
   "outputs": [
    {
     "name": "stdout",
     "output_type": "stream",
     "text": [
      "[ 0.68386897 79.90573694]\n"
     ]
    }
   ],
   "source": [
    "print(theta)"
   ]
  },
  {
   "cell_type": "code",
   "execution_count": 9,
   "metadata": {},
   "outputs": [
    {
     "data": {
      "image/png": "[encoded data removed]",
      "text/plain": [
       "<Figure size 432x288 with 1 Axes>"
      ]
     },
     "metadata": {
      "needs_background": "light"
     },
     "output_type": "display_data"
    }
   ],
   "source": [
    "plt.plot(error_list)\n",
    "#plt.xlim([0,1000])\n",
    "#plt.ylim([0,1000])\n",
    "plt.show()"
   ]
  },
  {
   "cell_type": "code",
   "execution_count": null,
   "metadata": {},
   "outputs": [],
   "source": []
  },
  {
   "cell_type": "code",
   "execution_count": 10,
   "metadata": {},
   "outputs": [
    {
     "name": "stdout",
     "output_type": "stream",
     "text": [
      "0.6838689680155888 79.90573694249977\n"
     ]
    },
    {
     "data": {
      "image/png": "[encoded data removed]",
      "text/plain": [
       "<Figure size 432x288 with 1 Axes>"
      ]
     },
     "metadata": {
      "needs_background": "light"
     },
     "output_type": "display_data"
    }
   ],
   "source": [
    "\n",
    "plt.scatter(x,y)\n",
    "print(theta[0],theta[1])\n",
    "plt.plot(x,hypothesis(x,theta),color='orange')\n",
    "#plt.show()"
   ]
  },
  {
   "cell_type": "code",
   "execution_count": 20,
   "metadata": {},
   "outputs": [
    {
     "ename": "AttributeError",
     "evalue": "'numpy.ndarray' object has no attribute 'append'",
     "output_type": "error",
     "traceback": [
      "\u001b[1;31m---------------------------------------------------------------------------\u001b[0m",
      "\u001b[1;31mAttributeError\u001b[0m                            Traceback (most recent call last)",
      "\u001b[1;32m<ipython-input-20-64022dd7e4c6>\u001b[0m in \u001b[0;36m<module>\u001b[1;34m\u001b[0m\n\u001b[0;32m      3\u001b[0m \u001b[0moutput\u001b[0m\u001b[1;33m=\u001b[0m\u001b[0mnp\u001b[0m\u001b[1;33m.\u001b[0m\u001b[0marray\u001b[0m\u001b[1;33m(\u001b[0m\u001b[1;33m(\u001b[0m\u001b[1;33m)\u001b[0m\u001b[1;33m)\u001b[0m\u001b[1;33m\u001b[0m\u001b[1;33m\u001b[0m\u001b[0m\n\u001b[0;32m      4\u001b[0m \u001b[1;32mfor\u001b[0m \u001b[0mi\u001b[0m \u001b[1;32min\u001b[0m \u001b[0mrange\u001b[0m\u001b[1;33m(\u001b[0m\u001b[0mt\u001b[0m\u001b[1;33m.\u001b[0m\u001b[0mshape\u001b[0m\u001b[1;33m[\u001b[0m\u001b[1;36m0\u001b[0m\u001b[1;33m]\u001b[0m\u001b[1;33m)\u001b[0m\u001b[1;33m:\u001b[0m\u001b[1;33m\u001b[0m\u001b[1;33m\u001b[0m\u001b[0m\n\u001b[1;32m----> 5\u001b[1;33m     \u001b[0moutput\u001b[0m\u001b[1;33m.\u001b[0m\u001b[0mappend\u001b[0m\u001b[1;33m(\u001b[0m\u001b[1;33m(\u001b[0m\u001b[0mtheta\u001b[0m\u001b[1;33m[\u001b[0m\u001b[1;36m0\u001b[0m\u001b[1;33m]\u001b[0m\u001b[1;33m+\u001b[0m\u001b[0mtheta\u001b[0m\u001b[1;33m[\u001b[0m\u001b[1;36m1\u001b[0m\u001b[1;33m]\u001b[0m\u001b[1;33m*\u001b[0m\u001b[0mt\u001b[0m\u001b[1;33m[\u001b[0m\u001b[0mi\u001b[0m\u001b[1;33m]\u001b[0m\u001b[1;33m)\u001b[0m\u001b[1;33m)\u001b[0m\u001b[1;33m\u001b[0m\u001b[1;33m\u001b[0m\u001b[0m\n\u001b[0m",
      "\u001b[1;31mAttributeError\u001b[0m: 'numpy.ndarray' object has no attribute 'append'"
     ]
    }
   ],
   "source": [
    "df_t=pd.read_csv(\"../Downloads/Linear_X_Test.csv\")\n",
    "t=df_t.values\n",
    "output=[]\n",
    "for i in range(t.shape[0]):\n",
    "    output.append((theta[0]+theta[1]*t[i]))\n",
    "print(output[0:5])"
   ]
  },
  {
   "cell_type": "code",
   "execution_count": 17,
   "metadata": {},
   "outputs": [
    {
     "data": {
      "image/png": "[encoded data removed]",
      "text/plain": [
       "<Figure size 432x288 with 1 Axes>"
      ]
     },
     "metadata": {
      "needs_background": "light"
     },
     "output_type": "display_data"
    }
   ],
   "source": [
    "plt.plot(t,output,color='orange')\n",
    "plt.show()"
   ]
  },
  {
   "cell_type": "code",
   "execution_count": 21,
   "metadata": {},
   "outputs": [],
   "source": [
    "df_t.to_csv('SmartWatch.cv')"
   ]
  },
  {
   "cell_type": "code",
   "execution_count": null,
   "metadata": {},
   "outputs": [],
   "source": []
  }
 ],
 "metadata": {
  "kernelspec": {
   "display_name": "Python 3",
   "language": "python",
   "name": "python3"
  },
  "language_info": {
   "codemirror_mode": {
    "name": "ipython",
    "version": 3
   },
   "file_extension": ".py",
   "mimetype": "text/x-python",
   "name": "python",
   "nbconvert_exporter": "python",
   "pygments_lexer": "ipython3",
   "version": "3.7.3"
  }
 },
 "nbformat": 4,
 "nbformat_minor": 2
}
