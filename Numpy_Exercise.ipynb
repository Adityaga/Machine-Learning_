{
 "cells": [
  {
   "cell_type": "markdown",
   "metadata": {},
   "source": [
    "# Numpy Exercise"
   ]
  },
  {
   "cell_type": "markdown",
   "metadata": {},
   "source": [
    "#### 1. Import the numpy package under the name  (★☆☆)"
   ]
  },
  {
   "cell_type": "code",
   "execution_count": 2,
   "metadata": {},
   "outputs": [],
   "source": [
    "import numpy as np"
   ]
  },
  {
   "cell_type": "markdown",
   "metadata": {},
   "source": [
    "#### 2. Print the numpy version and the configuration  (★☆☆)"
   ]
  },
  {
   "cell_type": "code",
   "execution_count": 3,
   "metadata": {},
   "outputs": [
    {
     "name": "stdout",
     "output_type": "stream",
     "text": [
      "1.16.4\n"
     ]
    }
   ],
   "source": [
    "print(np.__version__)"
   ]
  },
  {
   "cell_type": "markdown",
   "metadata": {},
   "source": [
    "#### 3. Create a null vector of size 10 (★☆☆)"
   ]
  },
  {
   "cell_type": "code",
   "execution_count": 7,
   "metadata": {},
   "outputs": [
    {
     "name": "stdout",
     "output_type": "stream",
     "text": [
      "[0. 0. 0. 0. 0. 0. 0. 0. 0. 0.]\n"
     ]
    }
   ],
   "source": [
    "arr=np.zeros(10)\n",
    "print(arr)"
   ]
  },
  {
   "cell_type": "markdown",
   "metadata": {},
   "source": [
    "#### 4.  How to find the memory size of any array (★☆☆)"
   ]
  },
  {
   "cell_type": "code",
   "execution_count": 12,
   "metadata": {},
   "outputs": [
    {
     "name": "stdout",
     "output_type": "stream",
     "text": [
      "[[ 1.  2.]\n",
      " [ 7. 10.]]\n",
      "4\n"
     ]
    }
   ],
   "source": [
    "import numpy as np\n",
    "arr=np.array([[1,2],[7,10]], dtype='float')\n",
    "#print(arr)\n",
    "print(arr.size)"
   ]
  },
  {
   "cell_type": "markdown",
   "metadata": {},
   "source": [
    "#### 5.  How to get the documentation of the numpy add function from the command line? (★☆☆)"
   ]
  },
  {
   "cell_type": "code",
   "execution_count": null,
   "metadata": {
    "collapsed": true
   },
   "outputs": [],
   "source": []
  },
  {
   "cell_type": "markdown",
   "metadata": {},
   "source": [
    "#### 6.  Create a null vector of size 10 but the fifth value which is 1 (★☆☆)"
   ]
  },
  {
   "cell_type": "code",
   "execution_count": 13,
   "metadata": {},
   "outputs": [
    {
     "name": "stdout",
     "output_type": "stream",
     "text": [
      "[0. 0. 0. 0. 0. 0. 0. 0. 0. 0.]\n",
      "[0. 0. 0. 0. 1. 0. 0. 0. 0. 0.]\n"
     ]
    }
   ],
   "source": [
    "import numpy as np\n",
    "arr=np.zeros(10)\n",
    "print(arr)\n",
    "arr[4]=1\n",
    "print(arr)"
   ]
  },
  {
   "cell_type": "markdown",
   "metadata": {},
   "source": [
    "#### 7.  Create a vector with values ranging from 10 to 49 (★☆☆)"
   ]
  },
  {
   "cell_type": "code",
   "execution_count": 15,
   "metadata": {},
   "outputs": [
    {
     "name": "stdout",
     "output_type": "stream",
     "text": [
      "[10 11 12 13 14 15 16 17 18 19 20 21 22 23 24 25 26 27 28 29 30 31 32 33\n",
      " 34 35 36 37 38 39 40 41 42 43 44 45 46 47 48 49]\n"
     ]
    }
   ],
   "source": [
    "arr=np.arange(10,50,1)\n",
    "print(arr)"
   ]
  },
  {
   "cell_type": "markdown",
   "metadata": {},
   "source": [
    "#### 8.  Reverse a vector (first element becomes last) (★☆☆)"
   ]
  },
  {
   "cell_type": "code",
   "execution_count": 23,
   "metadata": {},
   "outputs": [
    {
     "name": "stdout",
     "output_type": "stream",
     "text": [
      "[5 4 3 2 1]\n"
     ]
    }
   ],
   "source": [
    "arr=np.array([1,2,3,4,5])\n",
    "print(arr[::-1])"
   ]
  },
  {
   "cell_type": "markdown",
   "metadata": {},
   "source": [
    "#### 9.  Create a 3x3 matrix with values ranging from 0 to 8 (★☆☆)"
   ]
  },
  {
   "cell_type": "code",
   "execution_count": 24,
   "metadata": {},
   "outputs": [
    {
     "name": "stdout",
     "output_type": "stream",
     "text": [
      "[[0 1 2]\n",
      " [3 4 5]\n",
      " [6 7 8]]\n"
     ]
    }
   ],
   "source": [
    "import numpy as np\n",
    "arr=np.array([[0,1,2],[3,4,5],[6,7,8]])\n",
    "print(arr)"
   ]
  },
  {
   "cell_type": "markdown",
   "metadata": {},
   "source": [
    "#### 10. Find indices of non-zero elements from \\[1,2,0,0,4,0\\] (★☆☆)"
   ]
  },
  {
   "cell_type": "code",
   "execution_count": 451,
   "metadata": {},
   "outputs": [
    {
     "name": "stdout",
     "output_type": "stream",
     "text": [
      "0 1 4 "
     ]
    }
   ],
   "source": [
    "import numpy as np\n",
    "arr=np.array([1,2,0,0,4,0])\n",
    "for i in range(np.shape(arr)[0]):\n",
    "    if(arr[i]!=0):\n",
    "        print(i,end=\" \")"
   ]
  },
  {
   "cell_type": "markdown",
   "metadata": {},
   "source": [
    "#### 11. Create a 3x3 identity matrix (★☆☆)"
   ]
  },
  {
   "cell_type": "code",
   "execution_count": 26,
   "metadata": {},
   "outputs": [
    {
     "name": "stdout",
     "output_type": "stream",
     "text": [
      "[[1.+0.j 0.+0.j 0.+0.j]\n",
      " [0.+0.j 1.+0.j 0.+0.j]\n",
      " [0.+0.j 0.+0.j 1.+0.j]]\n"
     ]
    }
   ],
   "source": [
    "import numpy as np\n",
    "#arr=np.full((3,3),1,dtype='int')\n",
    "arr=np.identity(3,dtype='complex')\n",
    "print(arr)"
   ]
  },
  {
   "cell_type": "markdown",
   "metadata": {},
   "source": [
    "#### 12. Create a 3x3x3 array with random values (★☆☆)"
   ]
  },
  {
   "cell_type": "code",
   "execution_count": 32,
   "metadata": {},
   "outputs": [
    {
     "name": "stdout",
     "output_type": "stream",
     "text": [
      "[[0.20456948 0.28391933 0.07033858]\n",
      " [0.74323265 0.20815539 0.48756401]\n",
      " [0.88392396 0.20654886 0.35441852]]\n"
     ]
    }
   ],
   "source": [
    "import numpy as np\n",
    "arr=np.random.random((3,3))\n",
    "print(arr)"
   ]
  },
  {
   "cell_type": "markdown",
   "metadata": {},
   "source": [
    "#### 13. Create a 10x10 array with random values and find the minimum and maximum values (★☆☆)"
   ]
  },
  {
   "cell_type": "code",
   "execution_count": 36,
   "metadata": {},
   "outputs": [
    {
     "name": "stdout",
     "output_type": "stream",
     "text": [
      "[[0.94504391 0.15074179 0.06955991 0.30437061 0.59403335 0.69959202\n",
      "  0.69557339 0.98426491 0.65637058 0.82061387]\n",
      " [0.84169013 0.63848771 0.73271436 0.80605251 0.7692207  0.27744466\n",
      "  0.79699138 0.67638093 0.23749925 0.05367294]\n",
      " [0.12201959 0.86962881 0.70925556 0.9115285  0.35726033 0.34434496\n",
      "  0.98362869 0.42782821 0.73869154 0.06483159]\n",
      " [0.95979671 0.31688104 0.4164955  0.15337139 0.62547616 0.23637237\n",
      "  0.67634669 0.0184592  0.95739255 0.95330548]\n",
      " [0.30863214 0.05003969 0.65332356 0.43667821 0.37311281 0.41964959\n",
      "  0.86763095 0.01168761 0.40405594 0.00365414]\n",
      " [0.44115932 0.33260788 0.00435598 0.56273685 0.19264837 0.0857508\n",
      "  0.69816019 0.39548949 0.95614698 0.70899541]\n",
      " [0.4326074  0.83836686 0.7750518  0.55123867 0.90746598 0.16268193\n",
      "  0.06750543 0.38088985 0.58004382 0.87530473]\n",
      " [0.67100253 0.79631062 0.34184417 0.53443142 0.30974953 0.17970072\n",
      "  0.59653849 0.25236159 0.45272654 0.64326726]\n",
      " [0.25710361 0.66766722 0.12889633 0.12293177 0.2740528  0.66385359\n",
      "  0.94154072 0.45533662 0.13559742 0.25256019]\n",
      " [0.68167638 0.09503905 0.94767183 0.43943127 0.20812406 0.83209028\n",
      "  0.27138053 0.42342007 0.74097785 0.55399752]]\n",
      "0.984264908184172\n",
      "0.00365413978025364\n",
      "100\n"
     ]
    }
   ],
   "source": [
    "arr=np.random.random((10,10))\n",
    "print(arr)\n",
    "print(arr.max())\n",
    "print(arr.min())\n",
    "#print(arr.size)"
   ]
  },
  {
   "cell_type": "markdown",
   "metadata": {},
   "source": [
    "#### 14. Create a random vector of size 30 and find the mean value (★☆☆)"
   ]
  },
  {
   "cell_type": "code",
   "execution_count": 39,
   "metadata": {},
   "outputs": [
    {
     "name": "stdout",
     "output_type": "stream",
     "text": [
      "0.46621726365302796\n"
     ]
    }
   ],
   "source": [
    "arr=np.random.random((1,30))\n",
    "print(arr.mean())\n"
   ]
  },
  {
   "cell_type": "markdown",
   "metadata": {},
   "source": [
    "#### 15. Create a 2d array with 1 on the border and 0 inside (★☆☆)"
   ]
  },
  {
   "cell_type": "code",
   "execution_count": 45,
   "metadata": {},
   "outputs": [
    {
     "name": "stdout",
     "output_type": "stream",
     "text": [
      "[[1. 1. 1. 1. 1.]\n",
      " [1. 0. 0. 0. 1.]\n",
      " [1. 0. 0. 0. 1.]\n",
      " [1. 0. 0. 0. 1.]\n",
      " [1. 1. 1. 1. 1.]]\n"
     ]
    }
   ],
   "source": [
    "import numpy as np\n",
    "arr=np.zeros((5,5))\n",
    "for i in range(arr.shape[0]):\n",
    "    for j in range(arr.shape[1]):\n",
    "        if(i==0 or j==0 or i==arr.shape[0]-1 or j==arr.shape[1]-1):\n",
    "            arr[i][j]=1\n",
    "#print(arr.size(axis=0))\n",
    "print(arr)"
   ]
  },
  {
   "cell_type": "markdown",
   "metadata": {},
   "source": [
    "#### 16. How to add a border (filled with 0's) around an existing array? (★☆☆)"
   ]
  },
  {
   "cell_type": "code",
   "execution_count": 65,
   "metadata": {},
   "outputs": [
    {
     "name": "stdout",
     "output_type": "stream",
     "text": [
      "Original matrix:-\n",
      " [[1. 1. 1. 1. 1.]\n",
      " [1. 1. 1. 1. 1.]\n",
      " [1. 1. 1. 1. 1.]\n",
      " [1. 1. 1. 1. 1.]\n",
      " [1. 1. 1. 1. 1.]]\n",
      "after adding border\n",
      " [[0. 0. 0. 0. 0. 0. 0.]\n",
      " [0. 1. 1. 1. 1. 1. 0.]\n",
      " [0. 1. 1. 1. 1. 1. 0.]\n",
      " [0. 1. 1. 1. 1. 1. 0.]\n",
      " [0. 1. 1. 1. 1. 1. 0.]\n",
      " [0. 1. 1. 1. 1. 1. 0.]\n",
      " [0. 0. 0. 0. 0. 0. 0.]]\n"
     ]
    }
   ],
   "source": [
    "import numpy as np\n",
    "arr=np.ones((5,5))\n",
    "print(\"Original matrix:-\\n\",arr)\n",
    "arr=np.pad(arr, pad_width=1, mode='constant', constant_values=0)\n",
    "print(\"after adding border\\n\",arr)"
   ]
  },
  {
   "cell_type": "markdown",
   "metadata": {},
   "source": [
    "#### 17. What is the result of the following expression? (★☆☆)"
   ]
  },
  {
   "cell_type": "markdown",
   "metadata": {},
   "source": [
    "```python\n",
    "0 * np.nan\n",
    "np.nan == np.nan\n",
    "np.inf > np.nan\n",
    "np.nan - np.nan\n",
    "np.nan in set([np.nan])\n",
    "0.3 == 3 * 0.1\n",
    "```"
   ]
  },
  {
   "cell_type": "code",
   "execution_count": 80,
   "metadata": {},
   "outputs": [
    {
     "name": "stdout",
     "output_type": "stream",
     "text": [
      "False\n",
      "False\n",
      "nan\n",
      "False\n"
     ]
    }
   ],
   "source": [
    "nan\n",
    "false\n",
    "false\n",
    "nan\n",
    "false\n",
    "'''print(0*nan)\n",
    "print(np.nan==np.nan)\n",
    "print(np.inf>np.nan)\n",
    "print(np.nan-np.nan)\n",
    "#np.nan in set([np.nan])\n",
    "print(.3==3*.1)'''"
   ]
  },
  {
   "cell_type": "markdown",
   "metadata": {},
   "source": [
    "#### 18. Create a 5x5 matrix with values 1,2,3,4 just below the diagonal (★☆☆)"
   ]
  },
  {
   "cell_type": "code",
   "execution_count": 81,
   "metadata": {},
   "outputs": [
    {
     "name": "stdout",
     "output_type": "stream",
     "text": [
      "[[0. 0. 0. 0. 0.]\n",
      " [1. 0. 0. 0. 0.]\n",
      " [0. 2. 0. 0. 0.]\n",
      " [0. 0. 3. 0. 0.]\n",
      " [0. 0. 0. 4. 0.]]\n"
     ]
    }
   ],
   "source": [
    "import numpy as np\n",
    "arr=np.zeros((5,5))\n",
    "arr[1][0]=1\n",
    "arr[2][1]=2\n",
    "arr[3][2]=3\n",
    "arr[4][3]=4\n",
    "'''n=arr.shape[0]\n",
    "m=arr.shape[1]\n",
    "if matrix is large we can also do the same operation using nested loops\n",
    "arr=arr[[1,2,3,4],[0,1,2,3]]'''\n",
    "print(arr)"
   ]
  },
  {
   "cell_type": "markdown",
   "metadata": {},
   "source": [
    "#### 19. Create a 8x8 matrix and fill it with a checkerboard pattern (★☆☆)"
   ]
  },
  {
   "cell_type": "code",
   "execution_count": 84,
   "metadata": {},
   "outputs": [
    {
     "name": "stdout",
     "output_type": "stream",
     "text": [
      "[[0. 1. 0. 1. 0. 1. 0. 1.]\n",
      " [1. 0. 1. 0. 1. 0. 1. 0.]\n",
      " [0. 1. 0. 1. 0. 1. 0. 1.]\n",
      " [1. 0. 1. 0. 1. 0. 1. 0.]\n",
      " [0. 1. 0. 1. 0. 1. 0. 1.]\n",
      " [1. 0. 1. 0. 1. 0. 1. 0.]\n",
      " [0. 1. 0. 1. 0. 1. 0. 1.]\n",
      " [1. 0. 1. 0. 1. 0. 1. 0.]]\n"
     ]
    }
   ],
   "source": [
    "import numpy as np\n",
    "arr=np.ones((8,8))\n",
    "n=arr.shape[0]\n",
    "m=arr.shape[1]\n",
    "for i in range(n):\n",
    "    for j in range(m):\n",
    "         if((i%2==0 and j%2==0) or (i%2!=0 and j%2!=0)):\n",
    "            arr[i][j]=0\n",
    "print(arr)            "
   ]
  },
  {
   "cell_type": "markdown",
   "metadata": {},
   "source": [
    "#### 20. Consider a (6,7,8) shape array, what is the index (x,y,z) of the 100th element?"
   ]
  },
  {
   "cell_type": "code",
   "execution_count": 461,
   "metadata": {},
   "outputs": [
    {
     "name": "stdout",
     "output_type": "stream",
     "text": [
      "1\n",
      "[[[0 8 1 1 1 7 0 5]\n",
      "  [3 5 2 3 2 5 8 2]\n",
      "  [5 3 2 7 1 7 2 5]\n",
      "  [3 5 6 8 4 0 1 5]\n",
      "  [4 4 9 6 5 5 1 3]\n",
      "  [1 1 7 0 3 4 1 3]\n",
      "  [6 5 2 2 0 2 9 7]]\n",
      "\n",
      " [[4 8 9 9 8 0 6 2]\n",
      "  [8 1 1 0 1 3 2 0]\n",
      "  [6 4 3 8 0 6 5 1]\n",
      "  [8 1 6 9 6 9 3 5]\n",
      "  [3 8 8 1 6 7 3 0]\n",
      "  [0 9 4 1 6 4 3 7]\n",
      "  [8 5 2 9 5 7 0 9]]\n",
      "\n",
      " [[9 4 2 1 1 8 6 5]\n",
      "  [0 9 1 2 0 9 3 0]\n",
      "  [1 9 3 5 0 7 9 4]\n",
      "  [3 4 3 5 8 0 2 1]\n",
      "  [5 1 8 8 7 3 8 2]\n",
      "  [2 7 0 4 7 4 3 2]\n",
      "  [1 5 2 6 3 2 0 3]]\n",
      "\n",
      " [[5 2 4 1 9 4 8 0]\n",
      "  [1 7 0 1 4 2 4 1]\n",
      "  [6 7 8 4 5 8 7 6]\n",
      "  [4 6 6 9 9 1 3 3]\n",
      "  [0 1 7 7 0 3 9 2]\n",
      "  [3 7 6 2 1 4 5 4]\n",
      "  [3 5 5 5 2 9 1 8]]\n",
      "\n",
      " [[4 5 1 3 6 5 2 9]\n",
      "  [9 1 1 6 8 1 3 9]\n",
      "  [4 3 8 4 9 5 9 6]\n",
      "  [6 8 3 4 8 3 4 8]\n",
      "  [7 2 6 5 2 4 9 6]\n",
      "  [5 0 3 0 7 5 8 0]\n",
      "  [0 7 9 2 8 6 2 1]]\n",
      "\n",
      " [[2 5 3 5 9 7 9 8]\n",
      "  [8 5 9 4 4 2 4 0]\n",
      "  [8 2 6 1 6 2 8 4]\n",
      "  [1 2 8 2 7 8 8 4]\n",
      "  [9 2 6 4 2 6 5 5]\n",
      "  [9 6 8 6 2 8 4 6]\n",
      "  [7 0 5 2 5 2 5 6]]]\n"
     ]
    }
   ],
   "source": [
    "import numpy as np\n",
    "arr=np.random.randint(0,10,336).reshape(6,7,8)\n",
    "arr1=arr.flatten()\n",
    "print(arr1[99])\n",
    "print(arr)"
   ]
  },
  {
   "cell_type": "markdown",
   "metadata": {},
   "source": [
    "#### 21. Create a checkerboard 8x8 matrix using the tile function (★☆☆)"
   ]
  },
  {
   "cell_type": "code",
   "execution_count": 94,
   "metadata": {},
   "outputs": [
    {
     "name": "stdout",
     "output_type": "stream",
     "text": [
      "[[0 1]\n",
      " [1 0]]\n",
      "[[0 1 0 1 0 1 0 1]\n",
      " [1 0 1 0 1 0 1 0]\n",
      " [0 1 0 1 0 1 0 1]\n",
      " [1 0 1 0 1 0 1 0]\n",
      " [0 1 0 1 0 1 0 1]\n",
      " [1 0 1 0 1 0 1 0]\n",
      " [0 1 0 1 0 1 0 1]\n",
      " [1 0 1 0 1 0 1 0]]\n"
     ]
    }
   ],
   "source": [
    "import numpy as np\n",
    "arr=np.array([[0,1],[1,0]])\n",
    "print(arr)\n",
    "a=4\n",
    "repetitions=a\n",
    "arr=np.tile(arr,repetitions)\n",
    "b=1\n",
    "repetitions=(a,b)\n",
    "arr=np.tile(arr,repetitions)\n",
    "print(arr)"
   ]
  },
  {
   "cell_type": "markdown",
   "metadata": {},
   "source": [
    "#### 22. Normalize a 5x5 random matrix (★☆☆)"
   ]
  },
  {
   "cell_type": "code",
   "execution_count": 98,
   "metadata": {},
   "outputs": [
    {
     "name": "stdout",
     "output_type": "stream",
     "text": [
      "[[-0.14623848 -0.96867039  0.16633959 -0.83133471  0.63076188]\n",
      " [ 0.82676816  0.73333539  0.88313643 -0.94327519  1.        ]\n",
      " [ 0.62309532 -1.01863721  0.57495522  0.45946666 -0.53795287]\n",
      " [-0.4496786  -1.07701157 -0.87001043  0.62756132 -1.17951556]\n",
      " [ 0.8469241  -0.02581292  0.87498577  0.59173152 -0.79092341]]\n"
     ]
    }
   ],
   "source": [
    "#Normalization is process of converting array elements from their actual value to -1 to 1\n",
    "import numpy as np\n",
    "arr=np.random.random((5,5))\n",
    "arr=arr-arr.mean()\n",
    "arr=arr/arr.max()\n",
    "print(arr)"
   ]
  },
  {
   "cell_type": "markdown",
   "metadata": {},
   "source": [
    "#### 23. Create a custom dtype that describes a color as four unsigned bytes (RGBA) (★☆☆)"
   ]
  },
  {
   "cell_type": "code",
   "execution_count": null,
   "metadata": {
    "collapsed": true
   },
   "outputs": [],
   "source": []
  },
  {
   "cell_type": "markdown",
   "metadata": {},
   "source": [
    "#### 24. Multiply a 5x3 matrix by a 3x2 matrix (real matrix product) (★☆☆)"
   ]
  },
  {
   "cell_type": "code",
   "execution_count": 101,
   "metadata": {},
   "outputs": [
    {
     "name": "stdout",
     "output_type": "stream",
     "text": [
      "[[0.45482193 0.251778  ]\n",
      " [0.40693162 0.18191086]\n",
      " [0.15513043 0.09500782]\n",
      " [0.72365594 0.55425437]\n",
      " [0.52268903 0.24197001]]\n"
     ]
    }
   ],
   "source": [
    "arr1=np.random.random((5,3))\n",
    "arr2=np.random.random((3,2))\n",
    "mul=np.dot(arr1,arr2)\n",
    "print(mul)"
   ]
  },
  {
   "cell_type": "markdown",
   "metadata": {},
   "source": [
    "#### 25. Given a 1D array, negate all elements which are between 3 and 8, in place. (★☆☆)"
   ]
  },
  {
   "cell_type": "code",
   "execution_count": 122,
   "metadata": {},
   "outputs": [
    {
     "name": "stdout",
     "output_type": "stream",
     "text": [
      "[0 1 2 3 4 5 6 7 8 9]\n",
      "[ 0  1  2 -3 -4 -5 -6 -7  8  9]\n"
     ]
    }
   ],
   "source": [
    "import numpy as np\n",
    "arr=np.arange(0,10,1)\n",
    "print(arr)\n",
    "#arr=np.linspace(0,10,11)\n",
    "#print(arr)\n",
    "m=(arr>2) & (arr<8)\n",
    "arr[m]*=-1\n",
    "print(arr)"
   ]
  },
  {
   "cell_type": "markdown",
   "metadata": {},
   "source": [
    "#### 26. What is the output of the following script? (★☆☆)"
   ]
  },
  {
   "cell_type": "markdown",
   "metadata": {},
   "source": [
    "```python\n",
    "# Author: Jake VanderPlas\n",
    "\n",
    "print(sum(range(5),-1))\n",
    "from numpy import *\n",
    "print(sum(range(5),-1))\n",
    "```"
   ]
  },
  {
   "cell_type": "code",
   "execution_count": 108,
   "metadata": {
    "scrolled": true
   },
   "outputs": [
    {
     "name": "stdout",
     "output_type": "stream",
     "text": [
      "9\n",
      "10\n"
     ]
    }
   ],
   "source": [
    "#without importing 2nd argument woill subtract from cumputed sum\n",
    "#after importing numpy 2nd argument would act as a axis\n",
    "9\n",
    "10"
   ]
  },
  {
   "cell_type": "markdown",
   "metadata": {},
   "source": [
    "#### 27. Consider an integer vector Z, which of these expressions are legal? (★☆☆)"
   ]
  },
  {
   "cell_type": "markdown",
   "metadata": {},
   "source": [
    "```python\n",
    "Z**Z\n",
    "2 << Z >> 2\n",
    "Z <- Z\n",
    "1j*Z\n",
    "Z/1/1\n",
    "Z<Z>Z\n",
    "```"
   ]
  },
  {
   "cell_type": "code",
   "execution_count": 119,
   "metadata": {},
   "outputs": [
    {
     "name": "stdout",
     "output_type": "stream",
     "text": [
      "[1 2 3 4]\n",
      "[  1   4  27 256]\n",
      "[False False False False]\n",
      "[0.+1.j 0.+2.j 0.+3.j 0.+4.j]\n",
      "[1. 2. 3. 4.]\n"
     ]
    }
   ],
   "source": [
    "import numpy as np\n",
    "Z=np.arange(1,5,1)\n",
    "print(Z)\n",
    "print(Z**Z)\n",
    "#print(2 << Z >> 2)\n",
    "print(Z <- Z)\n",
    "print(1j*Z)\n",
    "print(Z/1/1)\n",
    "#print(Z<Z>Z)\n",
    "True\n",
    "False\n",
    "True\n",
    "True\n",
    "True\n",
    "False"
   ]
  },
  {
   "cell_type": "markdown",
   "metadata": {},
   "source": [
    "#### 28. What are the result of the following expressions?"
   ]
  },
  {
   "cell_type": "markdown",
   "metadata": {},
   "source": [
    "##### ```python\n",
    "np.array(0) / np.array(0)\n",
    "np.array(0) // np.array(0)\n",
    "np.array([np.nan]).astype(int).astype(float)\n",
    "```"
   ]
  },
  {
   "cell_type": "code",
   "execution_count": 128,
   "metadata": {},
   "outputs": [
    {
     "name": "stdout",
     "output_type": "stream",
     "text": [
      "1\n"
     ]
    }
   ],
   "source": [
    "import numpy as np\n",
    "arr=np.arange(1,5,1)\n",
    "print(arr[0])\n",
    "#print(np.array(0) / np.array(0))\n",
    "#np.array(0) // np.array(0)\n",
    "#np.array([np.nan]).astype(int).astype(float)"
   ]
  },
  {
   "cell_type": "markdown",
   "metadata": {},
   "source": [
    "#### 29. How to round away from zero a float array ? (★☆☆)"
   ]
  },
  {
   "cell_type": "code",
   "execution_count": 133,
   "metadata": {},
   "outputs": [
    {
     "name": "stdout",
     "output_type": "stream",
     "text": [
      "[[0.17881305 0.03553564 0.80201371 0.02636968 0.52657127]\n",
      " [0.14042119 0.06401273 0.23473173 0.12816326 0.38136942]\n",
      " [0.33991065 0.97067891 0.75730865 0.51351591 0.21501806]\n",
      " [0.07810584 0.38329458 0.93976036 0.3690407  0.82599222]\n",
      " [0.04320253 0.47432403 0.9732783  0.49283279 0.4212652 ]]\n",
      "[[0.18 0.04 0.8  0.03 0.53]\n",
      " [0.14 0.06 0.23 0.13 0.38]\n",
      " [0.34 0.97 0.76 0.51 0.22]\n",
      " [0.08 0.38 0.94 0.37 0.83]\n",
      " [0.04 0.47 0.97 0.49 0.42]]\n"
     ]
    }
   ],
   "source": [
    "import numpy as np\n",
    "arr=np.random.random((5,5))\n",
    "print(arr)\n",
    "arr=np.round(arr,2)\n",
    "#print(arr)\n",
    "arr=np.round(arr,decimals=2)\n",
    "print(arr)"
   ]
  },
  {
   "cell_type": "markdown",
   "metadata": {},
   "source": [
    "#### 30. How to find common values between two arrays? (★☆☆)"
   ]
  },
  {
   "cell_type": "code",
   "execution_count": 11,
   "metadata": {},
   "outputs": [
    {
     "name": "stdout",
     "output_type": "stream",
     "text": [
      "[ 7  9 10]\n"
     ]
    }
   ],
   "source": [
    "import numpy as np\n",
    "arr1=np.random.randint(1,11,10).reshape(5,2)\n",
    "arr2=np.random.randint(5,13,20).reshape(4,5)\n",
    "print(np.intersect1d(arr1,arr2))"
   ]
  },
  {
   "cell_type": "markdown",
   "metadata": {},
   "source": [
    "#### 31. How to ignore all numpy warnings (not recommended)? (★☆☆)"
   ]
  },
  {
   "cell_type": "code",
   "execution_count": 17,
   "metadata": {},
   "outputs": [
    {
     "name": "stdout",
     "output_type": "stream",
     "text": [
      "[inf]\n"
     ]
    }
   ],
   "source": [
    "defaults = np.seterr(all=\"ignore\")\n",
    "arr = np.ones(1) / 0\n",
    "print(arr)\n",
    "_ = np.seterr(**defaults)"
   ]
  },
  {
   "cell_type": "markdown",
   "metadata": {},
   "source": [
    "#### 32. Is the following expressions true? (★☆☆)"
   ]
  },
  {
   "cell_type": "markdown",
   "metadata": {},
   "source": [
    "```python\n",
    "np.sqrt(-1) == np.emath.sqrt(-1)\n",
    "```"
   ]
  },
  {
   "cell_type": "code",
   "execution_count": 18,
   "metadata": {},
   "outputs": [
    {
     "name": "stdout",
     "output_type": "stream",
     "text": [
      "nan\n",
      "1j\n"
     ]
    }
   ],
   "source": [
    "#false because sqrt function does not evaluate in complex numbers and emath does\n",
    "defaults = np.seterr(all=\"ignore\")\n",
    "print(np.sqrt(-1)) \n",
    "print(np.emath.sqrt(-1))"
   ]
  },
  {
   "cell_type": "markdown",
   "metadata": {},
   "source": [
    "#### 33. How to get the dates of yesterday, today and tomorrow? (★☆☆)"
   ]
  },
  {
   "cell_type": "code",
   "execution_count": 151,
   "metadata": {},
   "outputs": [
    {
     "name": "stdout",
     "output_type": "stream",
     "text": [
      "2019-10-09\n",
      "2019-10-10\n",
      "2019-10-11\n"
     ]
    }
   ],
   "source": [
    "#Here, I am supposing every month has 30 days\n",
    "'''import numpy as np\n",
    "# Date month year\n",
    "arr=np.array([30,10,2019])\n",
    "print(\"today\",arr)\n",
    "print(\"Yesterday \",end=\"\")\n",
    "m=arr\n",
    "arr[0]=arr[0]-1\n",
    "#print(arr)\n",
    "if(arr[0] <= 0):\n",
    "    arr[0]=30\n",
    "    arr[1]-=1\n",
    "    if(arr[1]<=0):\n",
    "        arr[1]=12\n",
    "        arr[2]-=1\n",
    "print(arr)\n",
    "arr=m\n",
    "print(\"Tomorrow \",end=\"\")\n",
    "arr[0]+=1\n",
    "if(arr[0]+1 > 30):\n",
    "    arr[0]=1\n",
    "    arr[1]+=1\n",
    "    if(arr[1]>12):\n",
    "        arr[1]=1\n",
    "        arr[2]+=1\n",
    "print(arr) '''\n",
    "import numpy as np\n",
    "yesterday=np.datetime64('today','D')-np.timedelta64(1,'D')\n",
    "print(yesterday)\n",
    "Today=np.datetime64('today','D')\n",
    "print(Today)\n",
    "Tomorrow=np.datetime64('today','D')+np.timedelta64(1,'D')\n",
    "print(Tomorrow)"
   ]
  },
  {
   "cell_type": "markdown",
   "metadata": {},
   "source": [
    "#### 34. How to get all the dates corresponding to the month of July 2016? (★★☆)"
   ]
  },
  {
   "cell_type": "code",
   "execution_count": 155,
   "metadata": {},
   "outputs": [
    {
     "name": "stdout",
     "output_type": "stream",
     "text": [
      "July 2016\n"
     ]
    },
    {
     "data": {
      "text/plain": [
       "array(['2016-07-01', '2016-07-02', '2016-07-03', '2016-07-04',\n",
       "       '2016-07-05', '2016-07-06', '2016-07-07', '2016-07-08',\n",
       "       '2016-07-09', '2016-07-10', '2016-07-11', '2016-07-12',\n",
       "       '2016-07-13', '2016-07-14', '2016-07-15', '2016-07-16',\n",
       "       '2016-07-17', '2016-07-18', '2016-07-19', '2016-07-20',\n",
       "       '2016-07-21', '2016-07-22', '2016-07-23', '2016-07-24',\n",
       "       '2016-07-25', '2016-07-26', '2016-07-27', '2016-07-28',\n",
       "       '2016-07-29', '2016-07-30', '2016-07-31'], dtype='datetime64[D]')"
      ]
     },
     "execution_count": 155,
     "metadata": {},
     "output_type": "execute_result"
    }
   ],
   "source": [
    "import numpy as np\n",
    "print('July 2016')\n",
    "np.arange('2016-07','2016-08',dtype='datetime64[D]')"
   ]
  },
  {
   "cell_type": "markdown",
   "metadata": {},
   "source": [
    "#### 35. How to compute ((A+B)\\*(-A/2)) in place (without copy)? (★★☆)"
   ]
  },
  {
   "cell_type": "code",
   "execution_count": 156,
   "metadata": {},
   "outputs": [
    {
     "name": "stdout",
     "output_type": "stream",
     "text": [
      "-18.0\n"
     ]
    }
   ],
   "source": [
    "A=4\n",
    "B=5\n",
    "print(((A+B)*(-A/2)))"
   ]
  },
  {
   "cell_type": "markdown",
   "metadata": {},
   "source": [
    "#### 36. Extract the integer part of a random array using 5 different methods (★★☆)"
   ]
  },
  {
   "cell_type": "code",
   "execution_count": 165,
   "metadata": {},
   "outputs": [
    {
     "name": "stdout",
     "output_type": "stream",
     "text": [
      "[[0.43636017 0.14289646 0.04319174 0.91201329 0.11873926 0.27036306\n",
      "  0.37519704 0.35387132 0.66585464 0.78191892]]\n",
      "[[0. 0. 0. 1. 0. 0. 0. 0. 1. 1.]]\n",
      "[[0. 0. 0. 1. 0. 0. 0. 0. 1. 1.]]\n",
      "[[0. 0. 0. 1. 0. 0. 0. 0. 1. 1.]]\n",
      "[[1. 1. 1. 1. 1. 1. 1. 1. 1. 1.]]\n",
      "[[0. 0. 0. 0. 0. 0. 0. 0. 0. 0.]]\n",
      "[[0. 0. 0. 0. 0. 0. 0. 0. 0. 0.]]\n"
     ]
    }
   ],
   "source": [
    "import numpy as np\n",
    "arr=np.arange(0,6,.66)\n",
    "arr=np.random.random((1,10))\n",
    "print(arr)\n",
    "print(np.round(arr,0))\n",
    "print(np.around(arr,0))\n",
    "print(np.rint(arr))\n",
    "print(np.ceil(arr))\n",
    "print(np.floor(arr))\n",
    "print(np.trunc(arr))\n"
   ]
  },
  {
   "cell_type": "markdown",
   "metadata": {},
   "source": [
    "#### 37. Create a 5x5 matrix with row values ranging from 0 to 4 (★★☆)"
   ]
  },
  {
   "cell_type": "code",
   "execution_count": 170,
   "metadata": {},
   "outputs": [
    {
     "name": "stdout",
     "output_type": "stream",
     "text": [
      "[[0 1 2 3 4]\n",
      " [0 1 2 3 4]\n",
      " [0 1 2 3 4]\n",
      " [0 1 2 3 4]\n",
      " [0 1 2 3 4]]\n"
     ]
    }
   ],
   "source": [
    "import numpy as np\n",
    "arr=np.arange(0,5,1)\n",
    "#print(arr)\n",
    "a=5\n",
    "b=1\n",
    "repetitions=(a,b)\n",
    "arr=np.tile(arr,repetitions)\n",
    "print(arr)"
   ]
  },
  {
   "cell_type": "markdown",
   "metadata": {},
   "source": [
    "#### 38. Consider a generator function that generates 10 integers and use it to build an array (★☆☆)"
   ]
  },
  {
   "cell_type": "code",
   "execution_count": null,
   "metadata": {},
   "outputs": [],
   "source": []
  },
  {
   "cell_type": "markdown",
   "metadata": {},
   "source": [
    "#### 39. Create a vector of size 10 with values ranging from 0 to 1, both excluded (★★☆)"
   ]
  },
  {
   "cell_type": "code",
   "execution_count": 177,
   "metadata": {},
   "outputs": [
    {
     "name": "stdout",
     "output_type": "stream",
     "text": [
      "[0.09090909 0.18181818 0.27272727 0.36363636 0.45454545 0.54545455\n",
      " 0.63636364 0.72727273 0.81818182 0.90909091]\n"
     ]
    }
   ],
   "source": [
    "import numpy as np\n",
    "'''arr=np.array([0,1])\n",
    "a=1\n",
    "b=5\n",
    "repetitions=(a,b)\n",
    "arr=np.tile(arr,repetitions)\n",
    "print(arr)'''\n",
    "arr=np.linspace(0,1,12,endpoint=True)[1:-1] # using [1:-1] for printing from 1st value to 2nd last value that is why we write 12 here not 10 becaues 2 indexes we need to avoid\n",
    "print(arr)"
   ]
  },
  {
   "cell_type": "markdown",
   "metadata": {},
   "source": [
    "#### 40. Create a random vector of size 10 and sort it (★★☆)"
   ]
  },
  {
   "cell_type": "code",
   "execution_count": 184,
   "metadata": {},
   "outputs": [
    {
     "name": "stdout",
     "output_type": "stream",
     "text": [
      "[0.85435313 0.76771599 0.6828347  0.65195568 0.54078221 0.44125956\n",
      " 0.42609127 0.41421332 0.35158767]\n",
      "[0.35158767 0.41421332 0.42609127 0.44125956 0.54078221 0.65195568\n",
      " 0.6828347  0.76771599 0.85435313]\n"
     ]
    }
   ],
   "source": [
    "arr=np.random.random(10)\n",
    "arr=np.sort(arr)[-1:0:-1] # descending order\n",
    "print(arr)\n",
    "arr=np.sort(arr) #ascending order\n",
    "print(arr)"
   ]
  },
  {
   "cell_type": "markdown",
   "metadata": {},
   "source": [
    "#### 41. How to sum a small array faster than np.sum? (★★☆)"
   ]
  },
  {
   "cell_type": "code",
   "execution_count": 190,
   "metadata": {},
   "outputs": [
    {
     "name": "stdout",
     "output_type": "stream",
     "text": [
      "55\n",
      "55\n",
      "55\n"
     ]
    }
   ],
   "source": [
    "arr=np.arange(1,11)\n",
    "print(np.sum(arr))#in between\n",
    "print(sum(arr))#slowest method\n",
    "print(arr.sum()) # fatest method"
   ]
  },
  {
   "cell_type": "markdown",
   "metadata": {},
   "source": [
    "#### 42. Consider two random array A and B, check if they are equal (★★☆)"
   ]
  },
  {
   "cell_type": "code",
   "execution_count": 194,
   "metadata": {},
   "outputs": [
    {
     "name": "stdout",
     "output_type": "stream",
     "text": [
      "[0.44465182 0.56707606 0.80466867 0.1424568  0.16176192 0.43892763\n",
      " 0.71897547 0.08100528 0.67419299 0.0952412 ]\n",
      "[0.14244235 0.58208005 0.06955485 0.37831849 0.44347169 0.15711148\n",
      " 0.69972508 0.32760191 0.76198332 0.94889206]\n",
      "[False False False False False False False False False False]\n"
     ]
    }
   ],
   "source": [
    "import numpy as np\n",
    "A=np.random.random((10))\n",
    "print(A)\n",
    "B=np.random.random((10))\n",
    "print(B)\n",
    "print(A==B)"
   ]
  },
  {
   "cell_type": "markdown",
   "metadata": {},
   "source": [
    "#### 43. Make an array immutable (read-only) (★★☆)"
   ]
  },
  {
   "cell_type": "code",
   "execution_count": 204,
   "metadata": {},
   "outputs": [
    {
     "name": "stdout",
     "output_type": "stream",
     "text": [
      "[[1 2]\n",
      " [2 3]]\n",
      "[1 2 3]\n"
     ]
    }
   ],
   "source": [
    "import numpy as np\n",
    "arr=np.array([[1,2],[2,3]])\n",
    "print(arr)\n",
    "A=np.array((1,2,3)) #Tuple which is immutable\n",
    "#A[0][0]=99\n",
    "print(A)"
   ]
  },
  {
   "cell_type": "markdown",
   "metadata": {},
   "source": [
    "#### 44. Consider a random 10x2 matrix representing cartesian coordinates, convert them to polar coordinates (★★☆)"
   ]
  },
  {
   "cell_type": "code",
   "execution_count": 213,
   "metadata": {},
   "outputs": [
    {
     "name": "stdout",
     "output_type": "stream",
     "text": [
      "cartisian cordiates:- [[0.41806893 0.00141906]\n",
      " [0.68157822 0.80970347]\n",
      " [0.07171694 0.73417107]\n",
      " [0.05581284 0.38700232]\n",
      " [0.81371212 0.89579513]\n",
      " [0.20703348 0.74763425]\n",
      " [0.41514814 0.87100491]\n",
      " [0.64736971 0.77652015]\n",
      " [0.6517759  0.93277264]\n",
      " [0.31820026 0.18101761]]\n",
      "Polar cordinates:- [[0.41807134 0.40599865]\n",
      " [1.05838017 0.87156245]\n",
      " [0.73766556 0.67256217]\n",
      " [0.39100623 0.38111889]\n",
      " [1.21019681 0.93568546]\n",
      " [0.77577048 0.70026632]\n",
      " [0.96488213 0.82198179]\n",
      " [1.01097531 0.84735017]\n",
      " [1.13792646 0.90776564]\n",
      " [0.36608576 0.35796332]]\n"
     ]
    }
   ],
   "source": [
    "import numpy as np\n",
    "arr=np.random.random((10,2))\n",
    "n=arr.shape[0]\n",
    "print(\"cartisian cordiates:-\",arr)\n",
    "for i in range(n):\n",
    "    arr[i][0]=np.math.sqrt((arr[i][0] *arr[i][0])+(arr[i][1]*arr[i][1]))\n",
    "    arr[i][1]=np.sin(arr[i][0])\n",
    "print(\"Polar cordinates:-\",arr)"
   ]
  },
  {
   "cell_type": "markdown",
   "metadata": {},
   "source": [
    "#### 45. Create random vector of size 10 and replace the maximum value by 0 (★★☆)"
   ]
  },
  {
   "cell_type": "code",
   "execution_count": 214,
   "metadata": {},
   "outputs": [
    {
     "name": "stdout",
     "output_type": "stream",
     "text": [
      "[0.75050122 0.4455675  0.29619185 0.41394112 0.28268774 0.47604144\n",
      " 0.44071448 0.28792658 0.99131208 0.35234886]\n",
      "0.9913120807240824\n",
      "[0.75050122 0.4455675  0.29619185 0.41394112 0.28268774 0.47604144\n",
      " 0.44071448 0.28792658 0.         0.35234886]\n"
     ]
    }
   ],
   "source": [
    "import numpy as np\n",
    "arr=np.random.random(10)\n",
    "print(arr)\n",
    "val=arr.max()\n",
    "print(val)\n",
    "index=np.where(val==arr)\n",
    "arr[index]=0\n",
    "print(arr)"
   ]
  },
  {
   "cell_type": "markdown",
   "metadata": {},
   "source": [
    "#### 46. Create a structured array with `x` and `y` coordinates covering the \\[0,1\\]x\\[0,1\\] area (★★☆)"
   ]
  },
  {
   "cell_type": "code",
   "execution_count": 216,
   "metadata": {},
   "outputs": [
    {
     "name": "stdout",
     "output_type": "stream",
     "text": [
      "Random array:-\n",
      " [[0.64250432 0.29321027 0.12175667 0.23819161 0.46230483]\n",
      " [0.04284752 0.58888899 0.36792365 0.66435832 0.85395746]\n",
      " [0.55446733 0.75276399 0.91829321 0.2921386  0.11596596]\n",
      " [0.34525415 0.6003131  0.08882502 0.06000447 0.99483477]\n",
      " [0.36713789 0.58410968 0.29793948 0.96465379 0.28152014]]\n",
      "Area\n",
      " [0.64250432 0.58888899]\n"
     ]
    }
   ],
   "source": [
    "import numpy as np\n",
    "arr=np.random.random((5,5))\n",
    "print(\"Random array:-\\n\",arr)\n",
    "Area=arr[[0,1],[0,1]]\n",
    "print(\"Area\\n\",Area)"
   ]
  },
  {
   "cell_type": "markdown",
   "metadata": {},
   "source": [
    "####  47. Given two arrays, X and Y, construct the Cauchy matrix C (Cij =1/(xi - yj))"
   ]
  },
  {
   "cell_type": "code",
   "execution_count": 20,
   "metadata": {},
   "outputs": [
    {
     "name": "stdout",
     "output_type": "stream",
     "text": [
      "-2.0\n"
     ]
    }
   ],
   "source": [
    "X = np.arange(8)\n",
    "for i in range(8):\n",
    "    Y = X[i] + 0.5\n",
    "    C=1/(X[i]-Y)\n",
    "print(C)"
   ]
  },
  {
   "cell_type": "markdown",
   "metadata": {},
   "source": [
    "#### 48. Print the minimum and maximum representable value for each numpy scalar type (★★☆)"
   ]
  },
  {
   "cell_type": "code",
   "execution_count": null,
   "metadata": {},
   "outputs": [],
   "source": []
  },
  {
   "cell_type": "markdown",
   "metadata": {},
   "source": [
    "#### 49. How to print all the values of an array? (★★☆)"
   ]
  },
  {
   "cell_type": "code",
   "execution_count": 21,
   "metadata": {},
   "outputs": [
    {
     "name": "stdout",
     "output_type": "stream",
     "text": [
      "0.58190500735748470.349710855112848830.42438498006299140.063578441883913260.30045229228275060.29433754661563380.57142694940830030.31088601254241530.0443006018493526940.26354951291205075[0.58190501 0.34971086 0.42438498 0.06357844 0.30045229 0.29433755\n",
      " 0.57142695 0.31088601 0.0443006  0.26354951]\n"
     ]
    }
   ],
   "source": [
    "import numpy as np\n",
    "arr=np.random.random(10)\n",
    "for i in range(arr.shape[0]):\n",
    "    print(arr[i],end=\"\")\n",
    "print(arr)    "
   ]
  },
  {
   "cell_type": "markdown",
   "metadata": {},
   "source": [
    "#### 50. How to find the closest value (to a given scalar) in a vector? (★★☆)"
   ]
  },
  {
   "cell_type": "code",
   "execution_count": 319,
   "metadata": {},
   "outputs": [
    {
     "name": "stdout",
     "output_type": "stream",
     "text": [
      "[ 0  1  2  3  4  5  6  7  8  9 10]\n",
      "6\n"
     ]
    }
   ],
   "source": [
    "import numpy as np\n",
    "arr=np.arange(0,11,1)\n",
    "print(arr)\n",
    "val=5.67\n",
    "#print(np.argmin(arr))\n",
    "print(arr[(np.abs(arr-val)).argmin()])"
   ]
  },
  {
   "cell_type": "markdown",
   "metadata": {},
   "source": [
    "#### 51. Create a structured array representing a position (x,y) and a color (r,g,b) (★★☆)"
   ]
  },
  {
   "cell_type": "code",
   "execution_count": 222,
   "metadata": {},
   "outputs": [
    {
     "name": "stdout",
     "output_type": "stream",
     "text": [
      "[['1' '2' 'R']\n",
      " ['3' '4' 'G']\n",
      " ['5' '6' 'B']]\n"
     ]
    }
   ],
   "source": [
    "import numpy as np\n",
    "arr=np.array([[1,2,'R'],[3,4,'G'],[5,6,'B']])\n",
    "print(arr)"
   ]
  },
  {
   "cell_type": "markdown",
   "metadata": {},
   "source": [
    "#### 52. Consider a random vector with shape (100,2) representing coordinates, find point by point distances (★★☆)"
   ]
  },
  {
   "cell_type": "code",
   "execution_count": 226,
   "metadata": {},
   "outputs": [
    {
     "name": "stdout",
     "output_type": "stream",
     "text": [
      "[[0.49227432 0.71596463]\n",
      " [0.46509753 0.81941745]\n",
      " [0.87587113 0.48819375]\n",
      " [0.34645059 0.16502283]\n",
      " [0.41448686 0.18514064]\n",
      " [0.80240352 0.00697083]\n",
      " [0.60620545 0.35280757]\n",
      " [0.82559261 0.34114203]\n",
      " [0.78272263 0.21879821]\n",
      " [0.78123052 0.85659881]\n",
      " [0.99062298 0.78066189]\n",
      " [0.73034518 0.81662419]\n",
      " [0.49698952 0.02621378]\n",
      " [0.80511632 0.05829311]\n",
      " [0.6841635  0.67955923]\n",
      " [0.22607616 0.03147463]\n",
      " [0.96840467 0.22022092]\n",
      " [0.68473489 0.76949373]\n",
      " [0.85759848 0.41915466]\n",
      " [0.82046686 0.35892812]\n",
      " [0.75293627 0.80152152]\n",
      " [0.68015755 0.03213306]\n",
      " [0.3321321  0.13289094]\n",
      " [0.20200007 0.81639823]\n",
      " [0.66616023 0.17123248]\n",
      " [0.61314789 0.64956356]\n",
      " [0.29249883 0.10370008]\n",
      " [0.89511996 0.5655296 ]\n",
      " [0.52338883 0.72980258]\n",
      " [0.15693588 0.60609844]\n",
      " [0.96868783 0.71805207]\n",
      " [0.65166393 0.89478524]\n",
      " [0.43693694 0.33192234]\n",
      " [0.50191842 0.15382621]\n",
      " [0.15812333 0.60885877]\n",
      " [0.90617113 0.65488152]\n",
      " [0.88171547 0.15272047]\n",
      " [0.16079388 0.71074397]\n",
      " [0.37493517 0.92864867]\n",
      " [0.91800395 0.86990579]\n",
      " [0.86157341 0.17524709]\n",
      " [0.32961965 0.9149387 ]\n",
      " [0.08265107 0.47914168]\n",
      " [0.54999138 0.96216356]\n",
      " [0.77992344 0.31250387]\n",
      " [0.40282184 0.43886539]\n",
      " [0.8242711  0.70300203]\n",
      " [0.13661127 0.49085809]\n",
      " [0.33211451 0.23506005]\n",
      " [0.46296808 0.05153075]\n",
      " [0.83840441 0.0707985 ]\n",
      " [0.74246072 0.5593316 ]\n",
      " [0.28524489 0.28277593]\n",
      " [0.08986881 0.93977146]\n",
      " [0.85780822 0.23401293]\n",
      " [0.95408031 0.00148137]\n",
      " [0.2617315  0.74786166]\n",
      " [0.61310463 0.40153163]\n",
      " [0.71300432 0.57723817]\n",
      " [0.60403212 0.35675867]\n",
      " [0.59309288 0.76962093]\n",
      " [0.58404337 0.79318583]\n",
      " [0.26849514 0.29395501]\n",
      " [0.2283156  0.08807189]\n",
      " [0.05395125 0.3306606 ]\n",
      " [0.50430201 0.01790365]\n",
      " [0.84243442 0.43481168]\n",
      " [0.36781711 0.14904523]\n",
      " [0.42989748 0.91165743]\n",
      " [0.09699735 0.5884766 ]\n",
      " [0.20429751 0.24330324]\n",
      " [0.64942864 0.83714765]\n",
      " [0.01776202 0.60208821]\n",
      " [0.04729396 0.41036144]\n",
      " [0.78502972 0.55535443]\n",
      " [0.76936731 0.81633478]\n",
      " [0.07669031 0.52010734]\n",
      " [0.22519489 0.37437012]\n",
      " [0.04938888 0.90559666]\n",
      " [0.76327414 0.85271717]\n",
      " [0.28891958 0.29139187]\n",
      " [0.22326039 0.78932255]\n",
      " [0.86798875 0.8383798 ]\n",
      " [0.01084404 0.24019285]\n",
      " [0.59406638 0.08028042]\n",
      " [0.86038158 0.20877768]\n",
      " [0.11446564 0.7535964 ]\n",
      " [0.26346215 0.9602593 ]\n",
      " [0.63983292 0.07039786]\n",
      " [0.15694009 0.12008354]\n",
      " [0.22595809 0.58987513]\n",
      " [0.14514427 0.74252738]\n",
      " [0.61400599 0.79349115]\n",
      " [0.95822813 0.79391962]\n",
      " [0.32059529 0.17265752]\n",
      " [0.4075789  0.43839747]\n",
      " [0.14046605 0.76513191]\n",
      " [0.06389436 0.11390897]\n",
      " [0.7726192  0.57875784]\n",
      " [0.96317585 0.61297473]]\n"
     ]
    }
   ],
   "source": [
    "import numpy as np\n",
    "arr=np.random.random((100,2))\n",
    "print(arr)"
   ]
  },
  {
   "cell_type": "markdown",
   "metadata": {},
   "source": [
    "#### 53. How to convert a float (32 bits) array into an integer (32 bits) in place?"
   ]
  },
  {
   "cell_type": "code",
   "execution_count": 224,
   "metadata": {},
   "outputs": [
    {
     "name": "stdout",
     "output_type": "stream",
     "text": [
      "[[1.4  2.   3.76]\n",
      " [3.54 4.   5.  ]\n",
      " [5.   6.   7.  ]]\n",
      "[[1 2 3]\n",
      " [3 4 5]\n",
      " [5 6 7]]\n"
     ]
    }
   ],
   "source": [
    "import numpy as np\n",
    "arr=np.array([[1.4,2,3.76],[3.54,4,5],[5,6,7]],dtype='float32')\n",
    "print(arr)\n",
    "arr=np.int32(arr)\n",
    "print(arr)"
   ]
  },
  {
   "cell_type": "markdown",
   "metadata": {},
   "source": [
    "#### 54. How to read the following file? (★★☆)"
   ]
  },
  {
   "cell_type": "code",
   "execution_count": null,
   "metadata": {},
   "outputs": [],
   "source": [
    "```\n",
    "1, 2, 3, 4, 5\n",
    "6,  ,  , 7, 8\n",
    " ,  , 9,10,11\n",
    "```"
   ]
  },
  {
   "cell_type": "code",
   "execution_count": 267,
   "metadata": {},
   "outputs": [
    {
     "name": "stdout",
     "output_type": "stream",
     "text": [
      "1, 2, 3, 4, 5\n",
      "6,  ,  , 7, 8\n",
      " ,  , 9,10,11\n",
      "Inital value for read buffer\n"
     ]
    }
   ],
   "source": [
    "from io import StringIO\n",
    "output=StringIO()\n",
    "output.write('''1, 2, 3, 4, 5\n",
    "6,  ,  , 7, 8\n",
    " ,  , 9,10,11''')\n",
    "#print(output)\n",
    "contents = output.getvalue()\n",
    "print(contents)\n",
    "\n"
   ]
  },
  {
   "cell_type": "markdown",
   "metadata": {},
   "source": [
    "#### 55. What is the equivalent of enumerate for numpy arrays? (★★☆)"
   ]
  },
  {
   "cell_type": "code",
   "execution_count": 271,
   "metadata": {},
   "outputs": [
    {
     "name": "stdout",
     "output_type": "stream",
     "text": [
      "[[ 1  2  3  4  5]\n",
      " [ 6  7  8  9 10]\n",
      " [11 12 13 14 15]\n",
      " [16 17 18 19 20]\n",
      " [21 22 23 24 25]]\n",
      "(0, 0) 1\n",
      "(0, 1) 2\n",
      "(0, 2) 3\n",
      "(0, 3) 4\n",
      "(0, 4) 5\n",
      "(1, 0) 6\n",
      "(1, 1) 7\n",
      "(1, 2) 8\n",
      "(1, 3) 9\n",
      "(1, 4) 10\n",
      "(2, 0) 11\n",
      "(2, 1) 12\n",
      "(2, 2) 13\n",
      "(2, 3) 14\n",
      "(2, 4) 15\n",
      "(3, 0) 16\n",
      "(3, 1) 17\n",
      "(3, 2) 18\n",
      "(3, 3) 19\n",
      "(3, 4) 20\n",
      "(4, 0) 21\n",
      "(4, 1) 22\n",
      "(4, 2) 23\n",
      "(4, 3) 24\n",
      "(4, 4) 25\n",
      "by equivalent programe\n",
      "( 0 ,  0 ) 1\n",
      "( 0 ,  1 ) 2\n",
      "( 0 ,  2 ) 3\n",
      "( 0 ,  3 ) 4\n",
      "( 0 ,  4 ) 5\n",
      "( 1 ,  0 ) 6\n",
      "( 1 ,  1 ) 7\n",
      "( 1 ,  2 ) 8\n",
      "( 1 ,  3 ) 9\n",
      "( 1 ,  4 ) 10\n",
      "( 2 ,  0 ) 11\n",
      "( 2 ,  1 ) 12\n",
      "( 2 ,  2 ) 13\n",
      "( 2 ,  3 ) 14\n",
      "( 2 ,  4 ) 15\n",
      "( 3 ,  0 ) 16\n",
      "( 3 ,  1 ) 17\n",
      "( 3 ,  2 ) 18\n",
      "( 3 ,  3 ) 19\n",
      "( 3 ,  4 ) 20\n",
      "( 4 ,  0 ) 21\n",
      "( 4 ,  1 ) 22\n",
      "( 4 ,  2 ) 23\n",
      "( 4 ,  3 ) 24\n",
      "( 4 ,  4 ) 25\n"
     ]
    }
   ],
   "source": [
    "import numpy as np\n",
    "arr=np.arange(1,26).reshape(5,5)\n",
    "print(arr)\n",
    "for index, val in np.ndenumerate(arr):\n",
    "    print(index,val)\n",
    "'''Equivalent programme'''    \n",
    "print(\"by equivalent programe\")\n",
    "for i in range(arr.shape[0]):\n",
    "    for j in range(arr.shape[1]):\n",
    "        print(\"(\",i,\", \",j,\")\",arr[i][j])"
   ]
  },
  {
   "cell_type": "markdown",
   "metadata": {},
   "source": [
    "#### 56. Generate a generic 2D Gaussian-like array (★★☆)"
   ]
  },
  {
   "cell_type": "code",
   "execution_count": null,
   "metadata": {},
   "outputs": [],
   "source": []
  },
  {
   "cell_type": "markdown",
   "metadata": {},
   "source": [
    "#### 57. How to randomly place p elements in a 2D array? (★★☆)"
   ]
  },
  {
   "cell_type": "code",
   "execution_count": 297,
   "metadata": {},
   "outputs": [
    {
     "name": "stdout",
     "output_type": "stream",
     "text": [
      "[[1. 1. 0. 0. 0.]\n",
      " [1. 0. 0. 0. 1.]\n",
      " [1. 1. 0. 0. 0.]\n",
      " [0. 1. 0. 0. 0.]\n",
      " [0. 0. 0. 0. 0.]]\n"
     ]
    }
   ],
   "source": [
    "import numpy as np\n",
    "arr=np.zeros((5,5))\n",
    "p=7\n",
    "np.put(arr,np.random.choice(range(25),p,replace=True),True)\n",
    "print(arr)"
   ]
  },
  {
   "cell_type": "markdown",
   "metadata": {},
   "source": [
    "#### 58. Subtract the mean of each row of a matrix (★★☆)"
   ]
  },
  {
   "cell_type": "code",
   "execution_count": 305,
   "metadata": {},
   "outputs": [
    {
     "name": "stdout",
     "output_type": "stream",
     "text": [
      "[[-2. -1.  0.  1.  2.]\n",
      " [-2. -1.  0.  1.  2.]\n",
      " [-2. -1.  0.  1.  2.]\n",
      " [-2. -1.  0.  1.  2.]\n",
      " [-2. -1.  0.  1.  2.]]\n"
     ]
    }
   ],
   "source": [
    "import numpy as np\n",
    "arr=np.arange(25,dtype='float').reshape((5,5))\n",
    "print(arr - arr.mean(axis=1, keepdims=True)) #keepdims rehape the array created by arr.mean"
   ]
  },
  {
   "cell_type": "markdown",
   "metadata": {},
   "source": [
    "#### 59. How to sort an array by the nth column? (★★☆)"
   ]
  },
  {
   "cell_type": "code",
   "execution_count": 314,
   "metadata": {},
   "outputs": [
    {
     "name": "stdout",
     "output_type": "stream",
     "text": [
      "[[0.31387557 0.39959214 0.07936031]\n",
      " [0.81135    0.59641921 0.42813381]\n",
      " [0.27150217 0.70472917 0.62677673]]\n"
     ]
    }
   ],
   "source": [
    "import numpy as np\n",
    "arr=np.random.random(9).reshape((3,3))\n",
    "arr=arr[(arr[:,2].argsort())]\n",
    "print(arr)"
   ]
  },
  {
   "cell_type": "markdown",
   "metadata": {},
   "source": [
    "#### 60. How to tell if a given 2D array has null columns? (★★☆)"
   ]
  },
  {
   "cell_type": "code",
   "execution_count": null,
   "metadata": {},
   "outputs": [],
   "source": []
  },
  {
   "cell_type": "markdown",
   "metadata": {},
   "source": [
    "#### 61. Find the nearest value from a given value in an array (★★☆)"
   ]
  },
  {
   "cell_type": "code",
   "execution_count": 337,
   "metadata": {},
   "outputs": [
    {
     "name": "stdout",
     "output_type": "stream",
     "text": [
      "[ 0  1  2  3  4  5  6  7  8  9 10 11 12 13 14 15 16 17 18 19 20 21 22 23\n",
      " 24]\n",
      "8\n",
      "[[ 0  1  2  3  4]\n",
      " [ 5  6  7  8  9]\n",
      " [10 11 12 13 14]\n",
      " [15 16 17 18 19]\n",
      " [20 21 22 23 24]]\n"
     ]
    }
   ],
   "source": [
    "import numpy as np\n",
    "arr=np.arange((25)).reshape((5,5))\n",
    "arr2=arr.flat[:]\n",
    "print(arr2)\n",
    "x=7.93\n",
    "val=arr2[(np.abs(arr2-x)).argmin()]\n",
    "print(val)\n",
    "print(arr)\n"
   ]
  },
  {
   "cell_type": "markdown",
   "metadata": {},
   "source": [
    "#### 62. Considering two arrays with shape (1,3) and (3,1), how to compute their sum using an iterator? (★★☆)"
   ]
  },
  {
   "cell_type": "code",
   "execution_count": 338,
   "metadata": {},
   "outputs": [
    {
     "ename": "ValueError",
     "evalue": "cannot reshape array of size 2 into shape (3,1)",
     "output_type": "error",
     "traceback": [
      "\u001b[1;31m---------------------------------------------------------------------------\u001b[0m",
      "\u001b[1;31mValueError\u001b[0m                                Traceback (most recent call last)",
      "\u001b[1;32m<ipython-input-338-ac63b353fada>\u001b[0m in \u001b[0;36m<module>\u001b[1;34m\u001b[0m\n\u001b[0;32m      1\u001b[0m \u001b[1;32mimport\u001b[0m \u001b[0mnumpy\u001b[0m \u001b[1;32mas\u001b[0m \u001b[0mnp\u001b[0m\u001b[1;33m\u001b[0m\u001b[1;33m\u001b[0m\u001b[0m\n\u001b[0;32m      2\u001b[0m \u001b[0mA\u001b[0m\u001b[1;33m=\u001b[0m\u001b[0mnp\u001b[0m\u001b[1;33m.\u001b[0m\u001b[0marange\u001b[0m\u001b[1;33m(\u001b[0m\u001b[1;36m1\u001b[0m\u001b[1;33m,\u001b[0m\u001b[1;36m4\u001b[0m\u001b[1;33m)\u001b[0m\u001b[1;33m.\u001b[0m\u001b[0mreshape\u001b[0m\u001b[1;33m(\u001b[0m\u001b[1;33m(\u001b[0m\u001b[1;36m1\u001b[0m\u001b[1;33m,\u001b[0m\u001b[1;36m3\u001b[0m\u001b[1;33m)\u001b[0m\u001b[1;33m)\u001b[0m\u001b[1;33m\u001b[0m\u001b[1;33m\u001b[0m\u001b[0m\n\u001b[1;32m----> 3\u001b[1;33m \u001b[0mB\u001b[0m\u001b[1;33m=\u001b[0m\u001b[0mnp\u001b[0m\u001b[1;33m.\u001b[0m\u001b[0marange\u001b[0m\u001b[1;33m(\u001b[0m\u001b[1;36m4\u001b[0m\u001b[1;33m,\u001b[0m\u001b[1;36m6\u001b[0m\u001b[1;33m)\u001b[0m\u001b[1;33m.\u001b[0m\u001b[0mreshape\u001b[0m\u001b[1;33m(\u001b[0m\u001b[1;33m(\u001b[0m\u001b[1;36m3\u001b[0m\u001b[1;33m,\u001b[0m\u001b[1;36m1\u001b[0m\u001b[1;33m)\u001b[0m\u001b[1;33m)\u001b[0m\u001b[1;33m\u001b[0m\u001b[1;33m\u001b[0m\u001b[0m\n\u001b[0m\u001b[0;32m      4\u001b[0m \u001b[0mC\u001b[0m\u001b[1;33m=\u001b[0m\u001b[0mA\u001b[0m\u001b[1;33m+\u001b[0m\u001b[0mB\u001b[0m\u001b[1;33m\u001b[0m\u001b[1;33m\u001b[0m\u001b[0m\n",
      "\u001b[1;31mValueError\u001b[0m: cannot reshape array of size 2 into shape (3,1)"
     ]
    }
   ],
   "source": [
    "import numpy as np\n",
    "A=np.arange(1,4).reshape((1,3))\n",
    "B=np.arange(4,6).reshape((3,1))\n",
    "C=A+B"
   ]
  },
  {
   "cell_type": "markdown",
   "metadata": {},
   "source": [
    "#### 63. Create an array class that has a name attribute (★★☆)"
   ]
  },
  {
   "cell_type": "code",
   "execution_count": 24,
   "metadata": {},
   "outputs": [
    {
     "ename": "NameError",
     "evalue": "name 'NamedArray' is not defined",
     "output_type": "error",
     "traceback": [
      "\u001b[1;31m---------------------------------------------------------------------------\u001b[0m",
      "\u001b[1;31mNameError\u001b[0m                                 Traceback (most recent call last)",
      "\u001b[1;32m<ipython-input-24-0b0190bebe29>\u001b[0m in \u001b[0;36m<module>\u001b[1;34m\u001b[0m\n\u001b[0;32m      2\u001b[0m \u001b[1;32mimport\u001b[0m \u001b[0mnumpy\u001b[0m \u001b[1;32mas\u001b[0m \u001b[0mnp\u001b[0m\u001b[1;33m\u001b[0m\u001b[1;33m\u001b[0m\u001b[0m\n\u001b[0;32m      3\u001b[0m \u001b[1;31m#name=np.arr(['Aditya','Abhishek'])\u001b[0m\u001b[1;33m\u001b[0m\u001b[1;33m\u001b[0m\u001b[1;33m\u001b[0m\u001b[0m\n\u001b[1;32m----> 4\u001b[1;33m \u001b[0mZ\u001b[0m \u001b[1;33m=\u001b[0m \u001b[0mNamedArray\u001b[0m\u001b[1;33m(\u001b[0m\u001b[0mnp\u001b[0m\u001b[1;33m.\u001b[0m\u001b[0marange\u001b[0m\u001b[1;33m(\u001b[0m\u001b[1;36m10\u001b[0m\u001b[1;33m)\u001b[0m\u001b[1;33m,\u001b[0m \u001b[1;34m\"range_10\"\u001b[0m\u001b[1;33m)\u001b[0m\u001b[1;33m\u001b[0m\u001b[1;33m\u001b[0m\u001b[0m\n\u001b[0m\u001b[0;32m      5\u001b[0m \u001b[0mprint\u001b[0m \u001b[1;33m(\u001b[0m\u001b[0mZ\u001b[0m\u001b[1;33m.\u001b[0m\u001b[0mname\u001b[0m\u001b[1;33m)\u001b[0m\u001b[1;33m\u001b[0m\u001b[1;33m\u001b[0m\u001b[0m\n",
      "\u001b[1;31mNameError\u001b[0m: name 'NamedArray' is not defined"
     ]
    }
   ],
   "source": [
    "#class Name(name)\n",
    "import numpy as np\n",
    "#name=np.arr(['Aditya','Abhishek'])\n",
    "Z = NamedArray(np.arange(10), \"range_10\")\n",
    "print (Z.name)"
   ]
  },
  {
   "cell_type": "markdown",
   "metadata": {},
   "source": [
    "#### 64. Consider a given vector, how to add 1 to each element indexed by a second vector (be careful with repeated indices)? (★★★)"
   ]
  },
  {
   "cell_type": "code",
   "execution_count": 361,
   "metadata": {},
   "outputs": [
    {
     "name": "stdout",
     "output_type": "stream",
     "text": [
      "[9 2 8 1 8 2 4 6 1 6]\n",
      "[0 2 2 0 1 0 2 0 2 1]\n",
      "[1. 1. 1. 1. 1. 1. 1. 1. 1. 1.]\n",
      "[1. 3. 3. 1. 2. 1. 3. 1. 3. 2.]\n"
     ]
    }
   ],
   "source": [
    "import numpy as np\n",
    "A=np.random.randint(1,10,10)\n",
    "print(A)\n",
    "B=np.bincount(A)\n",
    "print(B)\n",
    "C=np.ones(10)\n",
    "print(C)\n",
    "print(B+C)\n"
   ]
  },
  {
   "cell_type": "markdown",
   "metadata": {},
   "source": [
    "#### 65. How to accumulate elements of a vector (X) to an array (F) based on an index list (I)? (★★★)"
   ]
  },
  {
   "cell_type": "code",
   "execution_count": 340,
   "metadata": {},
   "outputs": [
    {
     "name": "stdout",
     "output_type": "stream",
     "text": [
      "[0. 1. 3. 9. 3. 4. 1.]\n"
     ]
    }
   ],
   "source": [
    "A= [1,2,3,4,5,6]\n",
    "B= [1,3,9,3,4,1]\n",
    "C=np.bincount(A,B) \n",
    "print(C)"
   ]
  },
  {
   "cell_type": "markdown",
   "metadata": {},
   "source": [
    "#### 66. Considering a (w,h,3) image of (dtype=ubyte), compute the number of unique colors (★★★)"
   ]
  },
  {
   "cell_type": "code",
   "execution_count": 356,
   "metadata": {},
   "outputs": [
    {
     "name": "stdout",
     "output_type": "stream",
     "text": [
      "[1. 1. 1. 1. 1. 1. 1. 1. 1. 1.]\n",
      "[6 2 5 0 4 9 2 2 4 4 3 7 9 7 2 8 9 4 5 5]\n",
      "[1 0 4 1 4 3 1 2 1 3]\n",
      "[2. 1. 5. 2. 5. 4. 2. 3. 2. 4.]\n"
     ]
    }
   ],
   "source": [
    "Z = np.ones(10)\n",
    "print(Z)\n",
    "I = np.random.randint(0,len(Z),20)\n",
    "print(I)\n",
    "print(np.bincount(I))\n",
    "Z+= np.bincount(I)\n",
    "print(Z)\n"
   ]
  },
  {
   "cell_type": "markdown",
   "metadata": {},
   "source": [
    "#### 67. Considering a four dimensions array, how to get sum over the last two axis at once? (★★★)"
   ]
  },
  {
   "cell_type": "code",
   "execution_count": 37,
   "metadata": {},
   "outputs": [
    {
     "name": "stdout",
     "output_type": "stream",
     "text": [
      "[[[[4 5 7]\n",
      "   [8 6 9]]\n",
      "\n",
      "  [[7 0 3]\n",
      "   [0 4 9]]\n",
      "\n",
      "  [[1 7 3]\n",
      "   [2 1 0]]]\n",
      "\n",
      "\n",
      " [[[1 5 2]\n",
      "   [0 5 2]]\n",
      "\n",
      "  [[5 3 7]\n",
      "   [8 4 8]]\n",
      "\n",
      "  [[3 5 2]\n",
      "   [3 6 5]]]]\n",
      "[[21 25 24]\n",
      " [21 26 33]]\n"
     ]
    }
   ],
   "source": [
    "import numpy as np\n",
    "A=np.random.randint(0,10,2*3*2*3).reshape(2,3,2,3)\n",
    "print(A)\n",
    "sum=A.sum(axis=(0,1))\n",
    "print(sum)"
   ]
  },
  {
   "cell_type": "markdown",
   "metadata": {},
   "source": [
    "#### 68. Considering a one-dimensional vector D, how to compute means of subsets of D using a vector S of same size describing subset  indices? (★★★)"
   ]
  },
  {
   "cell_type": "code",
   "execution_count": null,
   "metadata": {},
   "outputs": [],
   "source": []
  },
  {
   "cell_type": "markdown",
   "metadata": {},
   "source": [
    "#### 69. How to get the diagonal of a dot product? (★★★)"
   ]
  },
  {
   "cell_type": "code",
   "execution_count": 254,
   "metadata": {},
   "outputs": [
    {
     "name": "stdout",
     "output_type": "stream",
     "text": [
      "[[ 1  2  3  4  5]\n",
      " [ 6  7  8  9 10]\n",
      " [11 12 13 14 15]\n",
      " [16 17 18 19 20]\n",
      " [21 22 23 24 25]]\n",
      "[[26 27 28 29 30]\n",
      " [31 32 33 34 35]\n",
      " [36 37 38 39 40]\n",
      " [41 42 43 44 45]\n",
      " [46 47 48 49 50]]\n",
      "[ 590 1530 2520 3560 4650]\n"
     ]
    }
   ],
   "source": [
    "import numpy as np\n",
    "A=np.arange(1,26).reshape(5,5)\n",
    "B=np.arange(26,51).reshape(5,5)\n",
    "print(A)\n",
    "print(B)\n",
    "ans=np.dot(A,B)\n",
    "print(np.diag(ans))\n",
    "n=A.shape[0]"
   ]
  },
  {
   "cell_type": "markdown",
   "metadata": {},
   "source": [
    "#### 70. Consider the vector \\[1, 2, 3, 4, 5\\], how to build a new vector with 3 consecutive zeros interleaved between each value? (★★★)"
   ]
  },
  {
   "cell_type": "code",
   "execution_count": 364,
   "metadata": {},
   "outputs": [
    {
     "name": "stdout",
     "output_type": "stream",
     "text": [
      "[1 2 3 4 5]\n",
      "[1. 0. 0. 0. 2. 0. 0. 0. 3. 0. 0. 0. 4. 0. 0. 0. 5.]\n"
     ]
    }
   ],
   "source": [
    "import numpy as np\n",
    "arr=np.arange(1,6,1)\n",
    "print(arr)\n",
    "j=0\n",
    "A=np.zeros(len(arr)+(len(arr)-1)*3)\n",
    "for i in range(0,len(A),4):\n",
    "    A[i]=arr[j]\n",
    "    j+=1\n",
    "print(A)    \n",
    "        "
   ]
  },
  {
   "cell_type": "markdown",
   "metadata": {},
   "source": [
    "#### 71. Consider an array of dimension (5,5,3), how to mulitply it by an array with dimensions (5,5)? (★★★)"
   ]
  },
  {
   "cell_type": "code",
   "execution_count": 40,
   "metadata": {},
   "outputs": [
    {
     "name": "stdout",
     "output_type": "stream",
     "text": [
      "A:-\n",
      " [[[0.83125673 0.11134981 0.3988533 ]\n",
      "  [0.2429109  0.6934061  0.61407231]\n",
      "  [0.44788708 0.84038887 0.0332287 ]\n",
      "  [0.14459824 0.65291857 0.26526172]\n",
      "  [0.86941935 0.68814684 0.3676959 ]]\n",
      "\n",
      " [[0.08082503 0.65193957 0.89875703]\n",
      "  [0.91201037 0.73151598 0.17450778]\n",
      "  [0.7891269  0.47577633 0.18599702]\n",
      "  [0.16534499 0.22851823 0.77700998]\n",
      "  [0.30036057 0.25393241 0.69925317]]\n",
      "\n",
      " [[0.69368512 0.5623951  0.19596064]\n",
      "  [0.10467362 0.44563521 0.05156057]\n",
      "  [0.36021938 0.23602653 0.90760331]\n",
      "  [0.02548056 0.20892978 0.75126736]\n",
      "  [0.26949289 0.74976523 0.36488505]]\n",
      "\n",
      " [[0.40445477 0.52463886 0.00295636]\n",
      "  [0.18212089 0.02557007 0.93470434]\n",
      "  [0.09697717 0.31702825 0.35378347]\n",
      "  [0.38577796 0.06822813 0.07825438]\n",
      "  [0.12766807 0.37407437 0.86561252]]\n",
      "\n",
      " [[0.40897495 0.45349074 0.0527812 ]\n",
      "  [0.60730841 0.24789105 0.6150843 ]\n",
      "  [0.0484274  0.40540346 0.62785226]\n",
      "  [0.42044032 0.89316955 0.97663057]\n",
      "  [0.06713221 0.59260744 0.14470295]]]\n",
      "B:-\n",
      " [[0.46148381 0.19682226 0.09923562 0.81646746 0.00610923]\n",
      " [0.14253309 0.55663316 0.94180036 0.67796947 0.62234693]\n",
      " [0.43578621 0.17830168 0.4146546  0.47984737 0.71652437]\n",
      " [0.07552657 0.03886139 0.96415522 0.07517356 0.86328467]\n",
      " [0.8707298  0.07379272 0.88391885 0.60319097 0.26591388]]\n",
      "[[[3.83611521e-01 5.13861327e-02 1.84064342e-01]\n",
      "  [4.78102715e-02 1.36477755e-01 1.20863099e-01]\n",
      "  [4.44463539e-02 8.33965137e-02 3.29747039e-03]\n",
      "  [1.18059760e-01 5.33086762e-01 2.16577565e-01]\n",
      "  [5.31148350e-03 4.20404790e-03 2.24633913e-03]]\n",
      "\n",
      " [[1.15202411e-02 9.29229606e-02 1.28102615e-01]\n",
      "  [5.07655212e-01 4.07186047e-01 9.71368136e-02]\n",
      "  [7.43199995e-01 4.48086318e-01 1.75172058e-01]\n",
      "  [1.12098853e-01 1.54928384e-01 5.26789039e-01]\n",
      "  [1.86928476e-01 1.58034057e-01 4.35178060e-01]]\n",
      "\n",
      " [[3.02298409e-01 2.45084026e-01 8.53969430e-02]\n",
      "  [1.86634832e-02 7.94575084e-02 9.19333578e-03]\n",
      "  [1.49366626e-01 9.78694855e-02 3.76341890e-01]\n",
      "  [1.22267821e-02 1.00254405e-01 3.60493672e-01]\n",
      "  [1.93098222e-01 5.37225057e-01 2.61449032e-01]]\n",
      "\n",
      " [[3.05470799e-02 3.96241720e-02 2.23283443e-04]\n",
      "  [7.07747020e-03 9.93688283e-04 3.63239064e-02]\n",
      "  [9.35010450e-02 3.05664445e-01 3.41102176e-01]\n",
      "  [2.90003021e-02 5.12895177e-03 5.88266027e-03]\n",
      "  [1.10213886e-01 3.22932670e-01 7.47270021e-01]]\n",
      "\n",
      " [[3.56106676e-01 3.94867899e-01 4.59581611e-02]\n",
      "  [4.48149374e-02 1.82925540e-02 4.53887417e-02]\n",
      "  [4.28058926e-02 3.58343763e-01 5.54970445e-01]\n",
      "  [2.53605804e-01 5.38751807e-01 5.89094735e-01]\n",
      "  [1.78513870e-02 1.57582543e-01 3.84785216e-02]]]\n"
     ]
    }
   ],
   "source": [
    "import numpy as np\n",
    "A=np.random.random((5,5,3))\n",
    "B=np.random.random((5,5))\n",
    "print(\"A:-\\n\",A)\n",
    "print(\"B:-\\n\",B)\n",
    "print((A*B[:,:,None]))\n"
   ]
  },
  {
   "cell_type": "markdown",
   "metadata": {},
   "source": [
    "#### 72. How to swap two rows of an array? (★★★)"
   ]
  },
  {
   "cell_type": "code",
   "execution_count": 235,
   "metadata": {},
   "outputs": [
    {
     "name": "stdout",
     "output_type": "stream",
     "text": [
      "[[0.11469183 0.26725174 0.71374124 0.45591283 0.90735641]\n",
      " [0.2848472  0.91551307 0.35534444 0.13453277 0.80862486]\n",
      " [0.02801715 0.18312356 0.11636484 0.87355469 0.26534748]\n",
      " [0.50505936 0.93686584 0.50000562 0.13637825 0.44205478]\n",
      " [0.04292436 0.94392503 0.58372513 0.39003106 0.42073932]]\n",
      "After swapping:-\n",
      " [[0.11469183 0.26725174 0.71374124 0.45591283 0.90735641]\n",
      " [0.2848472  0.91551307 0.35534444 0.13453277 0.80862486]\n",
      " [0.50505936 0.93686584 0.50000562 0.13637825 0.44205478]\n",
      " [0.02801715 0.18312356 0.11636484 0.87355469 0.26534748]\n",
      " [0.04292436 0.94392503 0.58372513 0.39003106 0.42073932]]\n",
      "After 2nd swapping:-\n",
      " [[0.11469183 0.26725174 0.71374124 0.45591283 0.90735641]\n",
      " [0.2848472  0.91551307 0.35534444 0.13453277 0.80862486]\n",
      " [0.02801715 0.18312356 0.11636484 0.87355469 0.26534748]\n",
      " [0.50505936 0.93686584 0.50000562 0.13637825 0.44205478]\n",
      " [0.04292436 0.94392503 0.58372513 0.39003106 0.42073932]]\n"
     ]
    }
   ],
   "source": [
    "import numpy as np\n",
    "import copy\n",
    "arr=np.random.random((5,5))\n",
    "print(arr)\n",
    "#suppose we need to swap row 2 and 3\n",
    "arr[2]=arr[2]+arr[3]                #4,5 a=a+b 9,5 b=a-b 9,4 a=a-b 5,4\n",
    "arr[3]=arr[2]-arr[3]\n",
    "arr[2]=arr[2]-arr[3]\n",
    "print(\"After swapping:-\\n\",arr)\n",
    "temp=copy.deepcopy(arr[2])#using deep copy\n",
    "arr[2]=arr[3]\n",
    "arr[3]=temp\n",
    "print(\"After 2nd swapping:-\\n\",arr)\n",
    "#for j in range(m)\n",
    "    "
   ]
  },
  {
   "cell_type": "markdown",
   "metadata": {},
   "source": [
    "#### 73. Consider a set of 10 triplets describing 10 triangles (with shared vertices), find the set of unique line segments composing all the  triangles (★★★)"
   ]
  },
  {
   "cell_type": "code",
   "execution_count": null,
   "metadata": {},
   "outputs": [],
   "source": []
  },
  {
   "cell_type": "markdown",
   "metadata": {},
   "source": [
    "#### 74. Given an array C that is a bincount, how to produce an array A such that np.bincount(A) == C? (★★★)"
   ]
  },
  {
   "cell_type": "code",
   "execution_count": 383,
   "metadata": {},
   "outputs": [
    {
     "name": "stdout",
     "output_type": "stream",
     "text": [
      "[0 0 4 9 6 5 5 0 3 2]\n",
      "[3 0 1 1 1 2 1 0 0 1]\n",
      "[ True  True  True  True  True  True  True  True  True  True]\n"
     ]
    }
   ],
   "source": [
    "B=np.random.randint(0,10,10)\n",
    "C=np.bincount(B)\n",
    "A=B\n",
    "print(np.bincount(A) == C)\n",
    "C = np.bincount([1,1,2,3,4,4,6])\n",
    "A = np.repeat(np.arange(len(C)), C)\n",
    "print(C)\n",
    "print(A)"
   ]
  },
  {
   "cell_type": "markdown",
   "metadata": {},
   "source": [
    "#### 75. How to compute averages using a sliding window over an array? (★★★)"
   ]
  },
  {
   "cell_type": "code",
   "execution_count": 377,
   "metadata": {},
   "outputs": [
    {
     "name": "stdout",
     "output_type": "stream",
     "text": [
      "[ 1  2  3  4  5  6  7  8  9 10]\n",
      "2.0 3.0 4.0 5.0 6.0 7.0 8.0 "
     ]
    }
   ],
   "source": [
    "import numpy as np\n",
    "arr=np.arange(1,11,1)\n",
    "print(arr)\n",
    "s=np.sum(arr[0:3])\n",
    "print(s/3,end=\" \")\n",
    "n=np.size(arr)\n",
    "#print(n)\n",
    "for i in range(4,n):\n",
    "    s=s+arr[i]-arr[i-3]\n",
    "    print(s/3,end=\" \")\n",
    "#print(np.mean(arr))"
   ]
  },
  {
   "cell_type": "markdown",
   "metadata": {},
   "source": [
    "#### 76. Consider a one-dimensional array Z, build a two-dimensional array whose first row is (Z\\[0\\],Z\\[1\\],Z\\[2\\]) and each subsequent row is  shifted by 1 (last row should be (Z\\[-3\\],Z\\[-2\\],Z\\[-1\\]) (★★★)"
   ]
  },
  {
   "cell_type": "code",
   "execution_count": null,
   "metadata": {},
   "outputs": [],
   "source": []
  },
  {
   "cell_type": "markdown",
   "metadata": {},
   "source": [
    "#### 77. How to negate a boolean, or to change the sign of a float inplace? (★★★)"
   ]
  },
  {
   "cell_type": "code",
   "execution_count": 392,
   "metadata": {},
   "outputs": [
    {
     "name": "stdout",
     "output_type": "stream",
     "text": [
      "[10  2  6 10  9  7  4  4  9  6]\n",
      "[-10  -2  -6 -10  -9  -7  -4  -4  -9  -6]\n",
      "-2\n"
     ]
    }
   ],
   "source": [
    "import numpy as np\n",
    "arr=np.random.randint(0,11,10)\n",
    "print(arr)\n",
    "arr=-1*arr\n",
    "print(arr)\n",
    "a=True\n",
    "print(~a)"
   ]
  },
  {
   "cell_type": "markdown",
   "metadata": {},
   "source": [
    "#### 78. Consider 2 sets of points P0,P1 describing lines (2d) and a point p, how to compute distance from p to each line i  (P0\\[i\\],P1\\[i\\])? (★★★)"
   ]
  },
  {
   "cell_type": "code",
   "execution_count": 397,
   "metadata": {},
   "outputs": [
    {
     "name": "stdout",
     "output_type": "stream",
     "text": [
      "P0\n",
      " [[-3.7399341  -7.05238908]\n",
      " [-3.63765906 -9.11292168]\n",
      " [-6.20510556 -8.71645399]\n",
      " [ 3.6737629  -8.02182855]\n",
      " [ 9.19934693 -4.49565006]\n",
      " [ 0.82359986  7.50723294]\n",
      " [ 7.32931745 -6.2041677 ]\n",
      " [-7.6609754  -6.97768824]\n",
      " [ 2.89349466 -9.02638636]\n",
      " [ 3.42784403 -9.43560412]]\n",
      "P1\n",
      " [[ 1.3698254  -8.98461716]\n",
      " [-5.98580331 -4.05577496]\n",
      " [ 5.38314442 -5.54635297]\n",
      " [-7.95998533 -6.69251197]\n",
      " [-3.4211454   9.13893673]\n",
      " [-9.01111895  4.82516822]\n",
      " [-6.0381969  -1.62132377]\n",
      " [ 4.87711047  9.6595744 ]\n",
      " [-8.28668933  7.65632906]\n",
      " [-8.78987293  1.92195723]]\n",
      "P\n",
      " [[-6.49018396  3.85450358]]\n",
      "36.443273587538016     35.75419226262698\n",
      "42.32268382369647     41.876398082499435\n",
      "52.44668911646348     40.95941049308925\n",
      "39.045669467951164     57.744160483582746\n",
      "62.16926984663638     41.639970494105285\n",
      "29.426220701015094     61.3699122593942\n",
      "53.24145217249338     39.6841703903239\n",
      "56.52929290899489     48.8694216032924\n",
      "39.53684923922825     61.346866546777065\n",
      "42.63437199966351     57.526892055342934\n"
     ]
    }
   ],
   "source": [
    "P0 = np.random.uniform(-10,10,(10,2))\n",
    "P1 = np.random.uniform(-10,10,(10,2))\n",
    "P  = np.random.uniform(-10,10,( 1,2))\n",
    "print(\"P0\\n\",P0)\n",
    "print(\"P1\\n\",P1)\n",
    "print(\"P\\n\",P)\n",
    "for i in range(10):\n",
    "    d1=np.math.sqrt((P0[i][0]**2) * (P[0][0]**2)+(P0[i][1]**2) * (P[0][1]**2))\n",
    "    d2=np.math.sqrt((P1[i][0]**2) * (P[0][0]**2)+(P1[i][1]**2) * (P[0][1]**2))\n",
    "    print(d1,\"   \",d2)"
   ]
  },
  {
   "cell_type": "markdown",
   "metadata": {},
   "source": [
    "#### 79. Consider 2 sets of points P0,P1 describing lines (2d) and a set of points P, how to compute distance from each point j (P\\[j\\]) to each line i (P0\\[i\\],P1\\[i\\])? (★★★)"
   ]
  },
  {
   "cell_type": "code",
   "execution_count": null,
   "metadata": {},
   "outputs": [],
   "source": [
    "P0 = np.random.uniform(-10,10,(10,2))\n",
    "P1 = np.random.uniform(-10,10,(10,2))\n",
    "P  = np.random.uniform(-10,10,( 1,2))\n",
    "print(\"P0\\n\",P0)\n",
    "print(\"P1\\n\",P1)\n",
    "print(\"P\\n\",P)\n",
    "for i in range(10):\n",
    "    d1=np.math.sqrt((P0[i][0]**2) * (P[0][0]**2)+(P0[i][1]**2) * (P[0][1]**2))\n",
    "    d2=np.math.sqrt((P1[i][0]**2) * (P[0][0]**2)+(P1[i][1]**2) * (P[0][1]**2))\n",
    "    print(d1,\"   \",d2)"
   ]
  },
  {
   "cell_type": "markdown",
   "metadata": {},
   "source": [
    "#### 80. Consider an arbitrary array, write a function that extract a subpart with a fixed shape and centered on a given element (pad with a `fill` value when necessary) (★★★)"
   ]
  },
  {
   "cell_type": "code",
   "execution_count": null,
   "metadata": {},
   "outputs": [],
   "source": []
  },
  {
   "cell_type": "markdown",
   "metadata": {},
   "source": [
    "#### 81. Consider an array Z = \\[1,2,3,4,5,6,7,8,9,10,11,12,13,14\\], how to generate an array R = \\[\\[1,2,3,4\\], \\[2,3,4,5\\], \\[3,4,5,6\\], ..., \\[11,12,13,14\\]\\]? (★★★)"
   ]
  },
  {
   "cell_type": "code",
   "execution_count": 407,
   "metadata": {},
   "outputs": [
    {
     "name": "stdout",
     "output_type": "stream",
     "text": [
      "[ 1  2  3  4  5  6  7  8  9 10 11 12 13 14]\n",
      "14\n"
     ]
    }
   ],
   "source": [
    "import numpy as np\n",
    "arr=np.arange(1,15)\n",
    "print(arr)\n",
    "n=arr.shape[0]\n",
    "print(n)\n",
    "for i in range(n)\n",
    "    "
   ]
  },
  {
   "cell_type": "markdown",
   "metadata": {},
   "source": [
    "#### 82. Compute a matrix rank (★★★)"
   ]
  },
  {
   "cell_type": "code",
   "execution_count": 404,
   "metadata": {},
   "outputs": [
    {
     "name": "stdout",
     "output_type": "stream",
     "text": [
      "[[0. 0.]\n",
      " [0. 0.]\n",
      " [0. 0.]\n",
      " [0. 0.]\n",
      " [0. 0.]]\n",
      "0\n"
     ]
    }
   ],
   "source": [
    "import numpy as np\n",
    "arr=np.zeros(10).reshape(5,2)\n",
    "print(arr)\n",
    "rank=np.linalg.matrix_rank(arr)\n",
    "print(rank)"
   ]
  },
  {
   "cell_type": "markdown",
   "metadata": {},
   "source": [
    "#### 83. How to find the most frequent value in an array?"
   ]
  },
  {
   "cell_type": "code",
   "execution_count": 422,
   "metadata": {},
   "outputs": [
    {
     "name": "stdout",
     "output_type": "stream",
     "text": [
      "[6 8 2 8 4 2 4 3 2 6 1 5 7 8 1 1 4 1 3 4]\n",
      "[0 4 3 2 4 1 2 1 3]\n",
      "4\n"
     ]
    }
   ],
   "source": [
    "import numpy as np\n",
    "arr=np.random.randint(1,10,20)\n",
    "freq=np.bincount(arr)\n",
    "val=freq.max()"
   ]
  },
  {
   "cell_type": "markdown",
   "metadata": {},
   "source": [
    "#### 84. Extract all the contiguous 3x3 blocks from a random 10x10 matrix (★★★)"
   ]
  },
  {
   "cell_type": "code",
   "execution_count": 427,
   "metadata": {},
   "outputs": [
    {
     "name": "stdout",
     "output_type": "stream",
     "text": [
      "[[5 5 8 2 9 7 3 9 6 9]\n",
      " [5 9 3 5 9 3 9 6 1 6]\n",
      " [2 3 5 7 9 3 8 1 7 9]\n",
      " [9 5 9 6 4 7 8 8 2 9]\n",
      " [2 6 4 3 9 5 9 7 5 1]\n",
      " [8 7 4 9 4 8 3 3 8 5]\n",
      " [6 2 2 1 7 4 2 2 1 2]\n",
      " [8 4 8 8 4 9 9 7 9 1]\n",
      " [7 5 8 7 7 4 9 4 5 2]\n",
      " [9 6 5 1 8 9 6 5 2 9]]\n",
      "[[5 5 8]\n",
      " [5 9 3]\n",
      " [2 3 5]]\n",
      "[[5 8 2]\n",
      " [9 3 5]\n",
      " [3 5 7]]\n",
      "[[8 2 9]\n",
      " [3 5 9]\n",
      " [5 7 9]]\n",
      "[[2 9 7]\n",
      " [5 9 3]\n",
      " [7 9 3]]\n",
      "[[9 7 3]\n",
      " [9 3 9]\n",
      " [9 3 8]]\n",
      "[[7 3 9]\n",
      " [3 9 6]\n",
      " [3 8 1]]\n",
      "[[3 9 6]\n",
      " [9 6 1]\n",
      " [8 1 7]]\n",
      "[[5 9 3]\n",
      " [2 3 5]\n",
      " [9 5 9]]\n",
      "[[9 3 5]\n",
      " [3 5 7]\n",
      " [5 9 6]]\n",
      "[[3 5 9]\n",
      " [5 7 9]\n",
      " [9 6 4]]\n",
      "[[5 9 3]\n",
      " [7 9 3]\n",
      " [6 4 7]]\n",
      "[[9 3 9]\n",
      " [9 3 8]\n",
      " [4 7 8]]\n",
      "[[3 9 6]\n",
      " [3 8 1]\n",
      " [7 8 8]]\n",
      "[[9 6 1]\n",
      " [8 1 7]\n",
      " [8 8 2]]\n",
      "[[2 3 5]\n",
      " [9 5 9]\n",
      " [2 6 4]]\n",
      "[[3 5 7]\n",
      " [5 9 6]\n",
      " [6 4 3]]\n",
      "[[5 7 9]\n",
      " [9 6 4]\n",
      " [4 3 9]]\n",
      "[[7 9 3]\n",
      " [6 4 7]\n",
      " [3 9 5]]\n",
      "[[9 3 8]\n",
      " [4 7 8]\n",
      " [9 5 9]]\n",
      "[[3 8 1]\n",
      " [7 8 8]\n",
      " [5 9 7]]\n",
      "[[8 1 7]\n",
      " [8 8 2]\n",
      " [9 7 5]]\n",
      "[[9 5 9]\n",
      " [2 6 4]\n",
      " [8 7 4]]\n",
      "[[5 9 6]\n",
      " [6 4 3]\n",
      " [7 4 9]]\n",
      "[[9 6 4]\n",
      " [4 3 9]\n",
      " [4 9 4]]\n",
      "[[6 4 7]\n",
      " [3 9 5]\n",
      " [9 4 8]]\n",
      "[[4 7 8]\n",
      " [9 5 9]\n",
      " [4 8 3]]\n",
      "[[7 8 8]\n",
      " [5 9 7]\n",
      " [8 3 3]]\n",
      "[[8 8 2]\n",
      " [9 7 5]\n",
      " [3 3 8]]\n",
      "[[2 6 4]\n",
      " [8 7 4]\n",
      " [6 2 2]]\n",
      "[[6 4 3]\n",
      " [7 4 9]\n",
      " [2 2 1]]\n",
      "[[4 3 9]\n",
      " [4 9 4]\n",
      " [2 1 7]]\n",
      "[[3 9 5]\n",
      " [9 4 8]\n",
      " [1 7 4]]\n",
      "[[9 5 9]\n",
      " [4 8 3]\n",
      " [7 4 2]]\n",
      "[[5 9 7]\n",
      " [8 3 3]\n",
      " [4 2 2]]\n",
      "[[9 7 5]\n",
      " [3 3 8]\n",
      " [2 2 1]]\n",
      "[[8 7 4]\n",
      " [6 2 2]\n",
      " [8 4 8]]\n",
      "[[7 4 9]\n",
      " [2 2 1]\n",
      " [4 8 8]]\n",
      "[[4 9 4]\n",
      " [2 1 7]\n",
      " [8 8 4]]\n",
      "[[9 4 8]\n",
      " [1 7 4]\n",
      " [8 4 9]]\n",
      "[[4 8 3]\n",
      " [7 4 2]\n",
      " [4 9 9]]\n",
      "[[8 3 3]\n",
      " [4 2 2]\n",
      " [9 9 7]]\n",
      "[[3 3 8]\n",
      " [2 2 1]\n",
      " [9 7 9]]\n",
      "[[6 2 2]\n",
      " [8 4 8]\n",
      " [7 5 8]]\n",
      "[[2 2 1]\n",
      " [4 8 8]\n",
      " [5 8 7]]\n",
      "[[2 1 7]\n",
      " [8 8 4]\n",
      " [8 7 7]]\n",
      "[[1 7 4]\n",
      " [8 4 9]\n",
      " [7 7 4]]\n",
      "[[7 4 2]\n",
      " [4 9 9]\n",
      " [7 4 9]]\n",
      "[[4 2 2]\n",
      " [9 9 7]\n",
      " [4 9 4]]\n",
      "[[2 2 1]\n",
      " [9 7 9]\n",
      " [9 4 5]]\n"
     ]
    }
   ],
   "source": [
    "import numpy as np\n",
    "arr=np.random.randint(1,10,100).reshape(10,10)\n",
    "print(arr)\n",
    "n=arr.shape[0]\n",
    "m=arr.shape[1]\n",
    "for i in range(n-3):\n",
    "    for j in range(m-3):\n",
    "        X=arr[i:i+3,j:j+3]\n",
    "        print(X)"
   ]
  },
  {
   "cell_type": "markdown",
   "metadata": {},
   "source": [
    "#### 85. Create a 2D array subclass such that Z\\[i,j\\] == Z\\[j,i\\] (★★★)"
   ]
  },
  {
   "cell_type": "code",
   "execution_count": 430,
   "metadata": {},
   "outputs": [
    {
     "name": "stdout",
     "output_type": "stream",
     "text": [
      "[[1 3 8 8 2]\n",
      " [0 4 6 3 5]\n",
      " [0 5 0 6 3]\n",
      " [9 0 4 9 0]\n",
      " [4 2 1 2 8]]\n",
      "[[1 0 0 9 4]\n",
      " [0 4 5 0 2]\n",
      " [0 5 0 6 3]\n",
      " [9 0 4 9 0]\n",
      " [4 2 1 2 8]]\n"
     ]
    }
   ],
   "source": [
    "class subarr(Z):\n",
    "    def symmetric(self,Z):\n",
    "        n=Z.shape[0]\n",
    "        m=Z.shape[1]\n",
    "        for i in range(n//2):\n",
    "            for j in range(m):\n",
    "                Z[i][j]=Z[j][i]\n",
    "\n",
    "import numpy as np\n",
    "Z=np.random.randint(0,10,25).reshape(5,5)\n",
    "print(Z)\n",
    "obj=\n",
    "print(Z)        "
   ]
  },
  {
   "cell_type": "markdown",
   "metadata": {},
   "source": [
    "\n",
    "#### 86. Consider a set of p matrices wich shape (n,n) and a set of p vectors with shape (n,1). How to compute the sum of of the p matrix products at once? (result has shape (n,1)) (★★★)"
   ]
  },
  {
   "cell_type": "code",
   "execution_count": 431,
   "metadata": {},
   "outputs": [
    {
     "name": "stdout",
     "output_type": "stream",
     "text": [
      "[[[1. 1. 1. ... 1. 1. 1.]\n",
      "  [1. 1. 1. ... 1. 1. 1.]\n",
      "  [1. 1. 1. ... 1. 1. 1.]\n",
      "  ...\n",
      "  [1. 1. 1. ... 1. 1. 1.]\n",
      "  [1. 1. 1. ... 1. 1. 1.]\n",
      "  [1. 1. 1. ... 1. 1. 1.]]\n",
      "\n",
      " [[1. 1. 1. ... 1. 1. 1.]\n",
      "  [1. 1. 1. ... 1. 1. 1.]\n",
      "  [1. 1. 1. ... 1. 1. 1.]\n",
      "  ...\n",
      "  [1. 1. 1. ... 1. 1. 1.]\n",
      "  [1. 1. 1. ... 1. 1. 1.]\n",
      "  [1. 1. 1. ... 1. 1. 1.]]\n",
      "\n",
      " [[1. 1. 1. ... 1. 1. 1.]\n",
      "  [1. 1. 1. ... 1. 1. 1.]\n",
      "  [1. 1. 1. ... 1. 1. 1.]\n",
      "  ...\n",
      "  [1. 1. 1. ... 1. 1. 1.]\n",
      "  [1. 1. 1. ... 1. 1. 1.]\n",
      "  [1. 1. 1. ... 1. 1. 1.]]\n",
      "\n",
      " ...\n",
      "\n",
      " [[1. 1. 1. ... 1. 1. 1.]\n",
      "  [1. 1. 1. ... 1. 1. 1.]\n",
      "  [1. 1. 1. ... 1. 1. 1.]\n",
      "  ...\n",
      "  [1. 1. 1. ... 1. 1. 1.]\n",
      "  [1. 1. 1. ... 1. 1. 1.]\n",
      "  [1. 1. 1. ... 1. 1. 1.]]\n",
      "\n",
      " [[1. 1. 1. ... 1. 1. 1.]\n",
      "  [1. 1. 1. ... 1. 1. 1.]\n",
      "  [1. 1. 1. ... 1. 1. 1.]\n",
      "  ...\n",
      "  [1. 1. 1. ... 1. 1. 1.]\n",
      "  [1. 1. 1. ... 1. 1. 1.]\n",
      "  [1. 1. 1. ... 1. 1. 1.]]\n",
      "\n",
      " [[1. 1. 1. ... 1. 1. 1.]\n",
      "  [1. 1. 1. ... 1. 1. 1.]\n",
      "  [1. 1. 1. ... 1. 1. 1.]\n",
      "  ...\n",
      "  [1. 1. 1. ... 1. 1. 1.]\n",
      "  [1. 1. 1. ... 1. 1. 1.]\n",
      "  [1. 1. 1. ... 1. 1. 1.]]]\n",
      "[[[1.]\n",
      "  [1.]\n",
      "  [1.]\n",
      "  [1.]\n",
      "  [1.]\n",
      "  [1.]\n",
      "  [1.]\n",
      "  [1.]\n",
      "  [1.]\n",
      "  [1.]\n",
      "  [1.]\n",
      "  [1.]\n",
      "  [1.]\n",
      "  [1.]\n",
      "  [1.]\n",
      "  [1.]\n",
      "  [1.]\n",
      "  [1.]\n",
      "  [1.]\n",
      "  [1.]]\n",
      "\n",
      " [[1.]\n",
      "  [1.]\n",
      "  [1.]\n",
      "  [1.]\n",
      "  [1.]\n",
      "  [1.]\n",
      "  [1.]\n",
      "  [1.]\n",
      "  [1.]\n",
      "  [1.]\n",
      "  [1.]\n",
      "  [1.]\n",
      "  [1.]\n",
      "  [1.]\n",
      "  [1.]\n",
      "  [1.]\n",
      "  [1.]\n",
      "  [1.]\n",
      "  [1.]\n",
      "  [1.]]\n",
      "\n",
      " [[1.]\n",
      "  [1.]\n",
      "  [1.]\n",
      "  [1.]\n",
      "  [1.]\n",
      "  [1.]\n",
      "  [1.]\n",
      "  [1.]\n",
      "  [1.]\n",
      "  [1.]\n",
      "  [1.]\n",
      "  [1.]\n",
      "  [1.]\n",
      "  [1.]\n",
      "  [1.]\n",
      "  [1.]\n",
      "  [1.]\n",
      "  [1.]\n",
      "  [1.]\n",
      "  [1.]]\n",
      "\n",
      " [[1.]\n",
      "  [1.]\n",
      "  [1.]\n",
      "  [1.]\n",
      "  [1.]\n",
      "  [1.]\n",
      "  [1.]\n",
      "  [1.]\n",
      "  [1.]\n",
      "  [1.]\n",
      "  [1.]\n",
      "  [1.]\n",
      "  [1.]\n",
      "  [1.]\n",
      "  [1.]\n",
      "  [1.]\n",
      "  [1.]\n",
      "  [1.]\n",
      "  [1.]\n",
      "  [1.]]\n",
      "\n",
      " [[1.]\n",
      "  [1.]\n",
      "  [1.]\n",
      "  [1.]\n",
      "  [1.]\n",
      "  [1.]\n",
      "  [1.]\n",
      "  [1.]\n",
      "  [1.]\n",
      "  [1.]\n",
      "  [1.]\n",
      "  [1.]\n",
      "  [1.]\n",
      "  [1.]\n",
      "  [1.]\n",
      "  [1.]\n",
      "  [1.]\n",
      "  [1.]\n",
      "  [1.]\n",
      "  [1.]]\n",
      "\n",
      " [[1.]\n",
      "  [1.]\n",
      "  [1.]\n",
      "  [1.]\n",
      "  [1.]\n",
      "  [1.]\n",
      "  [1.]\n",
      "  [1.]\n",
      "  [1.]\n",
      "  [1.]\n",
      "  [1.]\n",
      "  [1.]\n",
      "  [1.]\n",
      "  [1.]\n",
      "  [1.]\n",
      "  [1.]\n",
      "  [1.]\n",
      "  [1.]\n",
      "  [1.]\n",
      "  [1.]]\n",
      "\n",
      " [[1.]\n",
      "  [1.]\n",
      "  [1.]\n",
      "  [1.]\n",
      "  [1.]\n",
      "  [1.]\n",
      "  [1.]\n",
      "  [1.]\n",
      "  [1.]\n",
      "  [1.]\n",
      "  [1.]\n",
      "  [1.]\n",
      "  [1.]\n",
      "  [1.]\n",
      "  [1.]\n",
      "  [1.]\n",
      "  [1.]\n",
      "  [1.]\n",
      "  [1.]\n",
      "  [1.]]\n",
      "\n",
      " [[1.]\n",
      "  [1.]\n",
      "  [1.]\n",
      "  [1.]\n",
      "  [1.]\n",
      "  [1.]\n",
      "  [1.]\n",
      "  [1.]\n",
      "  [1.]\n",
      "  [1.]\n",
      "  [1.]\n",
      "  [1.]\n",
      "  [1.]\n",
      "  [1.]\n",
      "  [1.]\n",
      "  [1.]\n",
      "  [1.]\n",
      "  [1.]\n",
      "  [1.]\n",
      "  [1.]]\n",
      "\n",
      " [[1.]\n",
      "  [1.]\n",
      "  [1.]\n",
      "  [1.]\n",
      "  [1.]\n",
      "  [1.]\n",
      "  [1.]\n",
      "  [1.]\n",
      "  [1.]\n",
      "  [1.]\n",
      "  [1.]\n",
      "  [1.]\n",
      "  [1.]\n",
      "  [1.]\n",
      "  [1.]\n",
      "  [1.]\n",
      "  [1.]\n",
      "  [1.]\n",
      "  [1.]\n",
      "  [1.]]\n",
      "\n",
      " [[1.]\n",
      "  [1.]\n",
      "  [1.]\n",
      "  [1.]\n",
      "  [1.]\n",
      "  [1.]\n",
      "  [1.]\n",
      "  [1.]\n",
      "  [1.]\n",
      "  [1.]\n",
      "  [1.]\n",
      "  [1.]\n",
      "  [1.]\n",
      "  [1.]\n",
      "  [1.]\n",
      "  [1.]\n",
      "  [1.]\n",
      "  [1.]\n",
      "  [1.]\n",
      "  [1.]]]\n"
     ]
    }
   ],
   "source": [
    "import numpy as np\n",
    "p, n = 10, 20\n",
    "M = np.ones((p,n,n))\n",
    "V = np.ones((p,n,1))\n",
    "print(M)\n",
    "print(V)"
   ]
  },
  {
   "cell_type": "markdown",
   "metadata": {},
   "source": [
    "#### 87. Consider a 16x16 array, how to get the block-sum (block size is 4x4)? (★★★)"
   ]
  },
  {
   "cell_type": "code",
   "execution_count": 436,
   "metadata": {},
   "outputs": [
    {
     "name": "stdout",
     "output_type": "stream",
     "text": [
      "[[5 0 6 9 9 7 2 3 0 8 9 1 0 8 9 2]\n",
      " [6 2 8 1 9 2 5 6 0 7 3 8 2 4 3 7]\n",
      " [6 6 5 1 7 5 2 8 0 4 2 2 5 0 9 5]\n",
      " [5 6 5 6 5 7 6 3 9 5 5 2 2 6 2 1]\n",
      " [8 7 5 2 8 6 0 7 3 5 4 3 3 3 8 1]\n",
      " [8 4 2 1 9 9 8 6 3 4 8 9 3 5 6 3]\n",
      " [3 2 8 7 9 7 9 7 8 5 2 0 7 0 1 8]\n",
      " [6 9 5 2 1 0 1 1 0 9 7 3 1 5 4 3]\n",
      " [0 1 2 7 6 6 3 6 4 9 8 2 0 4 0 9]\n",
      " [5 0 2 0 3 8 1 4 0 5 4 3 6 6 2 8]\n",
      " [6 4 7 7 2 8 1 5 9 4 9 5 0 2 3 5]\n",
      " [9 9 3 2 9 4 7 9 6 5 4 5 9 1 3 1]\n",
      " [7 8 7 3 5 7 8 0 3 9 6 3 7 8 3 9]\n",
      " [4 8 5 6 3 2 4 6 3 8 4 2 8 8 0 8]\n",
      " [1 0 9 3 5 6 9 0 0 9 6 4 0 0 2 3]\n",
      " [8 5 2 7 6 3 8 3 2 4 2 6 1 4 3 9]]\n",
      "77\n",
      "85\n",
      "92\n",
      "83\n",
      "86\n",
      "65\n",
      "68\n",
      "72\n",
      "65\n",
      "65\n",
      "59\n",
      "63\n",
      "65\n",
      "56\n",
      "38\n",
      "15\n",
      "79\n",
      "83\n",
      "82\n",
      "72\n",
      "86\n",
      "69\n",
      "70\n",
      "71\n",
      "62\n",
      "62\n",
      "54\n",
      "62\n",
      "61\n",
      "49\n",
      "36\n",
      "14\n",
      "77\n",
      "79\n",
      "83\n",
      "82\n",
      "96\n",
      "82\n",
      "73\n",
      "76\n",
      "68\n",
      "66\n",
      "62\n",
      "68\n",
      "62\n",
      "49\n",
      "35\n",
      "10\n",
      "79\n",
      "86\n",
      "96\n",
      "99\n",
      "106\n",
      "98\n",
      "88\n",
      "84\n",
      "75\n",
      "67\n",
      "62\n",
      "60\n",
      "59\n",
      "44\n",
      "30\n",
      "13\n",
      "79\n",
      "81\n",
      "81\n",
      "79\n",
      "88\n",
      "75\n",
      "76\n",
      "79\n",
      "73\n",
      "73\n",
      "63\n",
      "61\n",
      "61\n",
      "47\n",
      "34\n",
      "15\n",
      "67\n",
      "75\n",
      "81\n",
      "85\n",
      "88\n",
      "78\n",
      "83\n",
      "87\n",
      "81\n",
      "77\n",
      "64\n",
      "50\n",
      "59\n",
      "48\n",
      "34\n",
      "23\n",
      "59\n",
      "64\n",
      "73\n",
      "70\n",
      "72\n",
      "65\n",
      "72\n",
      "79\n",
      "69\n",
      "71\n",
      "58\n",
      "44\n",
      "64\n",
      "50\n",
      "35\n",
      "28\n",
      "63\n",
      "58\n",
      "66\n",
      "56\n",
      "56\n",
      "57\n",
      "62\n",
      "84\n",
      "81\n",
      "75\n",
      "65\n",
      "46\n",
      "58\n",
      "51\n",
      "34\n",
      "25\n",
      "64\n",
      "64\n",
      "76\n",
      "74\n",
      "82\n",
      "81\n",
      "78\n",
      "91\n",
      "82\n",
      "78\n",
      "68\n",
      "51\n",
      "59\n",
      "44\n",
      "31\n",
      "23\n",
      "79\n",
      "71\n",
      "77\n",
      "75\n",
      "81\n",
      "80\n",
      "76\n",
      "82\n",
      "80\n",
      "84\n",
      "78\n",
      "66\n",
      "73\n",
      "51\n",
      "34\n",
      "23\n",
      "95\n",
      "88\n",
      "80\n",
      "78\n",
      "80\n",
      "82\n",
      "87\n",
      "90\n",
      "85\n",
      "88\n",
      "81\n",
      "67\n",
      "75\n",
      "51\n",
      "32\n",
      "23\n",
      "84\n",
      "85\n",
      "79\n",
      "83\n",
      "84\n",
      "74\n",
      "86\n",
      "78\n",
      "77\n",
      "89\n",
      "75\n",
      "63\n",
      "70\n",
      "46\n",
      "29\n",
      "21\n"
     ]
    }
   ],
   "source": [
    "import numpy as np\n",
    "arr=np.random.randint(0,10,256).reshape(16,16)\n",
    "print(arr)\n",
    "for i in range(16-4):\n",
    "    for j in range(16):\n",
    "            print(arr[i:i+4,j:j+4].sum())\n",
    "            "
   ]
  },
  {
   "cell_type": "markdown",
   "metadata": {},
   "source": [
    "#### 88. How to implement the Game of Life using numpy arrays? (★★★)"
   ]
  },
  {
   "cell_type": "code",
   "execution_count": null,
   "metadata": {},
   "outputs": [],
   "source": []
  },
  {
   "cell_type": "markdown",
   "metadata": {},
   "source": [
    "#### 89. How to get the n largest values of an array (★★★)"
   ]
  },
  {
   "cell_type": "code",
   "execution_count": 442,
   "metadata": {},
   "outputs": [
    {
     "name": "stdout",
     "output_type": "stream",
     "text": [
      "[5 6 8 9 3 2 4 0 3 2]\n",
      "[0 2 2 3 3 4 5 6 8 9]\n",
      "10\n",
      "[9 8 6 5]\n"
     ]
    }
   ],
   "source": [
    "import numpy as np\n",
    "arr=np.random.randint(0,10,10)\n",
    "print(arr)\n",
    "arr1=np.sort(arr)\n",
    "print(arr1)\n",
    "print(np.size(arr))\n",
    "n=4\n",
    "print(arr1[np.size(arr1)-1:np.size(arr1)-1-n:-1])\n"
   ]
  },
  {
   "cell_type": "markdown",
   "metadata": {},
   "source": [
    "#### 90. Given an arbitrary number of vectors, build the cartesian product (every combinations of every item) (★★★)"
   ]
  },
  {
   "cell_type": "code",
   "execution_count": null,
   "metadata": {
    "scrolled": true
   },
   "outputs": [],
   "source": []
  },
  {
   "cell_type": "markdown",
   "metadata": {},
   "source": [
    "#### 91. How to create a record array from a regular array? (★★★)"
   ]
  },
  {
   "cell_type": "code",
   "execution_count": 447,
   "metadata": {},
   "outputs": [
    {
     "name": "stdout",
     "output_type": "stream",
     "text": [
      "[(b'Hello', 2.5, 3) (b'World', 3.6, 2)]\n"
     ]
    }
   ],
   "source": []
  },
  {
   "cell_type": "markdown",
   "metadata": {},
   "source": [
    "#### 92. Consider a large vector Z, compute Z to the power of 3 using 3 different methods (★★★)"
   ]
  },
  {
   "cell_type": "code",
   "execution_count": 446,
   "metadata": {},
   "outputs": [
    {
     "name": "stdout",
     "output_type": "stream",
     "text": [
      "[4 9 8 9 2 3 4 4 7 9 6 7 7 8 2 8 4 5 5 4 1 3 9 6 2 1 2 2 8 6 0 8 0 8 7 4 4\n",
      " 7 9 8 7 9 5 0 0 6 3 7 0 0]\n",
      "[ 64 729 512 729   8  27  64  64 343 729 216 343 343 512   8 512  64 125\n",
      " 125  64   1  27 729 216   8   1   8   8 512 216   0 512   0 512 343  64\n",
      "  64 343 729 512 343 729 125   0   0 216  27 343   0   0]\n",
      "[ 64 729 512 729   8  27  64  64 343 729 216 343 343 512   8 512  64 125\n",
      " 125  64   1  27 729 216   8   1   8   8 512 216   0 512   0 512 343  64\n",
      "  64 343 729 512 343 729 125   0   0 216  27 343   0   0]\n",
      "[ 64 729 512 729   8  27  64  64 343 729 216 343 343 512   8 512  64 125\n",
      " 125  64   1  27 729 216   8   1   8   8 512 216   0 512   0 512 343  64\n",
      "  64 343 729 512 343 729 125   0   0 216  27 343   0   0]\n"
     ]
    }
   ],
   "source": [
    "import numpy as np\n",
    "Z=np.random.randint(0,10,50)\n",
    "print(Z)\n",
    "A=Z**3\n",
    "B=np.power(Z,3)\n",
    "C=Z*Z*Z\n",
    "print(A)\n",
    "print(B)\n",
    "print(C)"
   ]
  },
  {
   "cell_type": "markdown",
   "metadata": {},
   "source": [
    "#### 93. Consider two arrays A and B of shape (8,3) and (2,2). How to find rows of A that contain elements of each row of B regardless of the order of the elements in B? (★★★)"
   ]
  },
  {
   "cell_type": "code",
   "execution_count": null,
   "metadata": {},
   "outputs": [],
   "source": []
  },
  {
   "cell_type": "markdown",
   "metadata": {},
   "source": [
    "#### 94. Considering a 10x3 matrix, extract rows with unequal values (e.g. \\[2,2,3\\]) (★★★)"
   ]
  },
  {
   "cell_type": "code",
   "execution_count": 45,
   "metadata": {},
   "outputs": [
    {
     "name": "stdout",
     "output_type": "stream",
     "text": [
      "[8 9 9]\n",
      "[7 4 7]\n",
      "[1 4 2]\n",
      "[0 2 8]\n",
      "[4 7 0]\n",
      "[6 8 6]\n",
      "[6 7 1]\n",
      "[3 5 0]\n",
      "[4 4 2]\n",
      "[5 7 2]\n"
     ]
    }
   ],
   "source": [
    "import numpy as np\n",
    "A=np.random.randint(0,10,(10,3))\n",
    "for i in range(A.shape[0]):\n",
    "    for j in range(A.shape[1]):\n",
    "        if(A[i][0]!=A[i][j]):\n",
    "            print(A[i][:])\n",
    "            break;\n",
    "    "
   ]
  },
  {
   "cell_type": "markdown",
   "metadata": {},
   "source": [
    "#### 95. Convert a vector of ints into a matrix binary representation (★★★)"
   ]
  },
  {
   "cell_type": "code",
   "execution_count": 46,
   "metadata": {},
   "outputs": [
    {
     "ename": "AttributeError",
     "evalue": "'int' object has no attribute 'bin'",
     "output_type": "error",
     "traceback": [
      "\u001b[1;31m---------------------------------------------------------------------------\u001b[0m",
      "\u001b[1;31mAttributeError\u001b[0m                            Traceback (most recent call last)",
      "\u001b[1;32m<ipython-input-46-0e21fe5df80d>\u001b[0m in \u001b[0;36m<module>\u001b[1;34m\u001b[0m\n\u001b[0;32m      1\u001b[0m \u001b[0mA\u001b[0m\u001b[1;33m=\u001b[0m\u001b[1;36m5\u001b[0m\u001b[1;33m\u001b[0m\u001b[1;33m\u001b[0m\u001b[0m\n\u001b[1;32m----> 2\u001b[1;33m \u001b[0mprint\u001b[0m\u001b[1;33m(\u001b[0m\u001b[0mA\u001b[0m\u001b[1;33m.\u001b[0m\u001b[0mbin\u001b[0m\u001b[1;33m(\u001b[0m\u001b[1;33m)\u001b[0m\u001b[1;33m)\u001b[0m\u001b[1;33m\u001b[0m\u001b[1;33m\u001b[0m\u001b[0m\n\u001b[0m",
      "\u001b[1;31mAttributeError\u001b[0m: 'int' object has no attribute 'bin'"
     ]
    }
   ],
   "source": [
    "A=5\n",
    "print(A.bin())"
   ]
  },
  {
   "cell_type": "markdown",
   "metadata": {},
   "source": [
    "#### 96. Given a two dimensional array, how to extract unique rows? (★★★)"
   ]
  },
  {
   "cell_type": "code",
   "execution_count": 47,
   "metadata": {},
   "outputs": [
    {
     "name": "stdout",
     "output_type": "stream",
     "text": [
      "[[2 9 4 8 8]\n",
      " [4 2 5 4 9]\n",
      " [7 1 4 6 7]\n",
      " [7 9 6 8 4]\n",
      " [9 1 4 5 7]]\n"
     ]
    }
   ],
   "source": [
    "import numpy as np\n",
    "A=np.random.randint(0,10,(5,5))\n",
    "print(np.unique(A,axis=0))"
   ]
  },
  {
   "cell_type": "markdown",
   "metadata": {},
   "source": [
    "#### 97. Considering 2 vectors A & B, write the einsum equivalent of inner, outer, sum, and mul function (★★★)"
   ]
  },
  {
   "cell_type": "code",
   "execution_count": null,
   "metadata": {},
   "outputs": [],
   "source": [
    "A = np.random.uniform(0,1,10)\n",
    "B = np.random.uniform(0,1,10)\n",
    "\n",
    "C= np.sum(A)\n",
    "D= A * B\n",
    "E=np.inner(A, B)\n",
    "F= np.outer(A, B)"
   ]
  },
  {
   "cell_type": "markdown",
   "metadata": {},
   "source": [
    "#### 98. Considering a path described by two vectors (X,Y), how to sample it using equidistant samples (★★★)?"
   ]
  },
  {
   "cell_type": "code",
   "execution_count": null,
   "metadata": {
    "collapsed": true
   },
   "outputs": [],
   "source": []
  },
  {
   "cell_type": "markdown",
   "metadata": {},
   "source": [
    "#### 99. Given an integer n and a 2D array X, select from X the rows which can be interpreted as draws from a multinomial distribution with n degrees, i.e., the rows which only contain integers and which sum to n. (★★★)"
   ]
  },
  {
   "cell_type": "code",
   "execution_count": null,
   "metadata": {},
   "outputs": [],
   "source": []
  },
  {
   "cell_type": "markdown",
   "metadata": {},
   "source": [
    "#### 100. Compute bootstrapped 95% confidence intervals for the mean of a 1D array X (i.e., resample the elements of an array with replacement N times, compute the mean of each sample, and then compute percentiles over the means). (★★★)"
   ]
  },
  {
   "cell_type": "code",
   "execution_count": null,
   "metadata": {},
   "outputs": [],
   "source": []
  }
 ],
 "metadata": {
  "kernelspec": {
   "display_name": "Python 3",
   "language": "python",
   "name": "python3"
  },
  "language_info": {
   "codemirror_mode": {
    "name": "ipython",
    "version": 3
   },
   "file_extension": ".py",
   "mimetype": "text/x-python",
   "name": "python",
   "nbconvert_exporter": "python",
   "pygments_lexer": "ipython3",
   "version": "3.7.3"
  }
 },
 "nbformat": 4,
 "nbformat_minor": 1
}
